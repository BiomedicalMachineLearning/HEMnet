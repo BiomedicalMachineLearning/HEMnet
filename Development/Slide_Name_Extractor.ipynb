{
 "cells": [
  {
   "cell_type": "code",
   "execution_count": 1,
   "metadata": {},
   "outputs": [],
   "source": [
    "import numpy as np\n",
    "from pathlib import Path\n",
    "import pandas as pd"
   ]
  },
  {
   "cell_type": "code",
   "execution_count": 2,
   "metadata": {},
   "outputs": [],
   "source": [
    "SLIDES_PATH = Path('/gpfs1/scratch/90days/s4436005/Slides')"
   ]
  },
  {
   "cell_type": "code",
   "execution_count": 6,
   "metadata": {},
   "outputs": [
    {
     "data": {
      "text/plain": [
       "['1792_T_9500_2_TP53',\n",
       " '1792_T_9500_3_HandE',\n",
       " '1794_T_9504_2_TP53',\n",
       " '1794_T_9504_3_HandE',\n",
       " '1798_T_9514_2_TP53',\n",
       " '1798_T_9514_3_HandE',\n",
       " '1820_N_10545A_2_HandE',\n",
       " '1820_N_10545A_4_TP53',\n",
       " '1820_T_105452F_2_HandE',\n",
       " '1820_T_105452F_4_TP53',\n",
       " '1843_T_9561_2_TP53',\n",
       " '1843_T_9561_3_HandE',\n",
       " '1879_T_9580_2_TP53',\n",
       " '1879_T_9580_3_HandE',\n",
       " '1910_T_9637_2_TP53',\n",
       " '1910_T_9637_3_HandE',\n",
       " '1915_T_10464_2_TP53',\n",
       " '1915_T_10464_3_HandE',\n",
       " '1919_T_10779_2_TP53',\n",
       " '1919_T_10779_3_HandE',\n",
       " '1928_T_9644_2_TP53',\n",
       " '1928_T_9644_3_HandE',\n",
       " '1932_T_9876_2_TP53',\n",
       " '1932_T_9876_3_HandE',\n",
       " '1939_T_9661_2_TP53',\n",
       " '1939_T_9661_3_HandE',\n",
       " '1957_T_9668_2_TP53',\n",
       " '1957_T_9668_3_HandE',\n",
       " '2011_T_9699_2_TP53',\n",
       " '2011_T_9699_3_HandE',\n",
       " '2019_T_9717_2_TP53',\n",
       " '2019_T_9717_3_HandE',\n",
       " '2023_T_9727_2_TP53',\n",
       " '2023_T_9727_3_HandE',\n",
       " '2036_T_9729_2_TP53',\n",
       " '2036_T_9729_3_HandE',\n",
       " '2038_T_11986_2_TP53',\n",
       " '2038_T_11986_3_HandE',\n",
       " '2065_N_12752A_2_HandE',\n",
       " '2065_N_12752A_4_TP53',\n",
       " '2065_T_12756A_2_HandE',\n",
       " '2065_T_12756A_4_TP53',\n",
       " '2075_T_9787_2_TP53',\n",
       " '2075_T_9787_3_HandE',\n",
       " '2090_T_10594_2_TP53',\n",
       " '2090_T_10594_3_HandE',\n",
       " '2107_T_9806_2_TP53',\n",
       " '2107_T_9806_3_HandE',\n",
       " '2112_N_12341B_2_HandE',\n",
       " '2112_N_12341B_4_TP53',\n",
       " '2112_T_12335F_2_HandE',\n",
       " '2112_T_12335F_4_TP53',\n",
       " '2148_N_11397A_2_HandE',\n",
       " '2148_N_11397A_4_TP53',\n",
       " '2148_T_11393A_2_HandE',\n",
       " '2148_T_11393A_4_TP53',\n",
       " '2171_N_11521A_2_HandE',\n",
       " '2171_N_11521A_4_TP53',\n",
       " '2171_T_11524A_2_HandE',\n",
       " '2171_T_11524A_4_TP53',\n",
       " '232_T_13230_2_TP53',\n",
       " '232_T_13230_3_HandE',\n",
       " '2382_T_15360_2_TP53',\n",
       " '2382_T_15360_3_HandE',\n",
       " '526_T_15907_1_CDH1',\n",
       " '526_T_15907_2_TP53',\n",
       " '526_T_15907_3_HandE',\n",
       " '526_T_15915_1_CDH1',\n",
       " '526_T_15915_2_TP53',\n",
       " '526_T_15915_3_HandE',\n",
       " '526_T_15923_1_CDH1',\n",
       " '526_T_15923_2_TP53',\n",
       " '526_T_15923_3_HandE']"
      ]
     },
     "execution_count": 6,
     "metadata": {},
     "output_type": "execute_result"
    }
   ],
   "source": [
    "# Find Slides\n",
    "slides = []\n",
    "for slide in SLIDES_PATH.glob('*.svs'):\n",
    "    stem = slide.stem\n",
    "    slides.append(stem)\n",
    "slides.sort()\n",
    "slides"
   ]
  },
  {
   "cell_type": "code",
   "execution_count": 11,
   "metadata": {},
   "outputs": [],
   "source": [
    "slides_split = [x.split('_') for x in slides]"
   ]
  },
  {
   "cell_type": "code",
   "execution_count": 13,
   "metadata": {},
   "outputs": [],
   "source": [
    "slides_df = pd.DataFrame(slides_split)"
   ]
  },
  {
   "cell_type": "code",
   "execution_count": 17,
   "metadata": {},
   "outputs": [],
   "source": [
    "slides_df.to_csv('slide_names.csv', index = False)"
   ]
  },
  {
   "cell_type": "code",
   "execution_count": 25,
   "metadata": {},
   "outputs": [],
   "source": [
    "patient_ids = slides_df[0].unique()"
   ]
  },
  {
   "cell_type": "code",
   "execution_count": 26,
   "metadata": {},
   "outputs": [
    {
     "name": "stdout",
     "output_type": "stream",
     "text": [
      "1792,\n",
      "1794,\n",
      "1798,\n",
      "1820,\n",
      "1843,\n",
      "1879,\n",
      "1910,\n",
      "1915,\n",
      "1919,\n",
      "1928,\n",
      "1932,\n",
      "1939,\n",
      "1957,\n",
      "2011,\n",
      "2019,\n",
      "2023,\n",
      "2036,\n",
      "2038,\n",
      "2065,\n",
      "2075,\n",
      "2090,\n",
      "2107,\n",
      "2112,\n",
      "2148,\n",
      "2171,\n",
      "232,\n",
      "2382,\n",
      "526,\n"
     ]
    }
   ],
   "source": [
    "for i in patient_ids:\n",
    "    print(i + \",\")"
   ]
  },
  {
   "cell_type": "code",
   "execution_count": null,
   "metadata": {},
   "outputs": [],
   "source": []
  }
 ],
 "metadata": {
  "kernelspec": {
   "display_name": "Python 3",
   "language": "python",
   "name": "python3"
  },
  "language_info": {
   "codemirror_mode": {
    "name": "ipython",
    "version": 3
   },
   "file_extension": ".py",
   "mimetype": "text/x-python",
   "name": "python",
   "nbconvert_exporter": "python",
   "pygments_lexer": "ipython3",
   "version": "3.6.7"
  }
 },
 "nbformat": 4,
 "nbformat_minor": 2
}
