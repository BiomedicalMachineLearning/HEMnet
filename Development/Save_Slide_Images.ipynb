{
 "cells": [
  {
   "cell_type": "code",
   "execution_count": 3,
   "metadata": {
    "scrolled": false
   },
   "outputs": [],
   "source": [
    "#Not all these packages are required but they are here for completeness\n",
    "import glob\n",
    "import io\n",
    "from ipywidgets import interact\n",
    "import matplotlib.pyplot as plt\n",
    "import numpy as np\n",
    "import os\n",
    "import openslide\n",
    "from openslide import open_slide\n",
    "import pandas as pd\n",
    "from PIL import Image, ImageOps, ImageChops\n",
    "import seaborn as sns\n",
    "import SimpleITK as sitk\n",
    "from skimage.color import rgb2hed\n",
    "from skimage.exposure import histogram\n",
    "from skimage.filters import threshold_otsu\n",
    "from skimage import morphology\n",
    "import time\n",
    "import warnings"
   ]
  },
  {
   "cell_type": "code",
   "execution_count": 42,
   "metadata": {},
   "outputs": [],
   "source": [
    "SLIDES_PATH = '/gpfs1/scratch/90days/s4436005/Slides'\n",
    "TP53_SAVE_PATH = '/gpfs1/scratch/90days/s4436005/Slides/jpegs/TP53/'\n",
    "HE_SAVE_PATH = '/gpfs1/scratch/90days/s4436005/Slides/jpegs/HandE/'"
   ]
  },
  {
   "cell_type": "code",
   "execution_count": 5,
   "metadata": {},
   "outputs": [
    {
     "data": {
      "text/plain": [
       "'/gpfs1/scratch/90days/s4436005/Slides'"
      ]
     },
     "execution_count": 5,
     "metadata": {},
     "output_type": "execute_result"
    }
   ],
   "source": [
    "os.chdir(SLIDES_PATH)\n",
    "os.getcwd()"
   ]
  },
  {
   "cell_type": "code",
   "execution_count": 6,
   "metadata": {},
   "outputs": [
    {
     "data": {
      "text/plain": [
       "['1792_T_9500_2_TP53.svs',\n",
       " '1792_T_9500_3_HandE.svs',\n",
       " '1794_T_9504_2_TP53.svs',\n",
       " '1794_T_9504_3_HandE.svs',\n",
       " '1798_T_9514_2_TP53.svs',\n",
       " '1798_T_9514_3_HandE.svs',\n",
       " '1820_N_10545A_2_HandE.svs',\n",
       " '1820_N_10545A_4_TP53.svs',\n",
       " '1820_T_105452F_2_HandE.svs',\n",
       " '1820_T_105452F_4_TP53.svs',\n",
       " '1843_T_9561_2_TP53.svs',\n",
       " '1843_T_9561_3_HandE.svs',\n",
       " '1879_T_9580_2_TP53.svs',\n",
       " '1879_T_9580_3_HandE.svs',\n",
       " '1910_T_9637_2_TP53.svs',\n",
       " '1910_T_9637_3_HandE.svs',\n",
       " '1915_T_10464_2_TP53.svs',\n",
       " '1915_T_10464_3_HandE.svs',\n",
       " '1919_T_10779_2_TP53.svs',\n",
       " '1919_T_10779_3_HandE.svs',\n",
       " '1928_T_9644_2_TP53.svs',\n",
       " '1928_T_9644_3_HandE.svs',\n",
       " '1932_T_9876_2_TP53.svs',\n",
       " '1932_T_9876_3_HandE.svs',\n",
       " '1939_T_9661_2_TP53.svs',\n",
       " '1939_T_9661_3_HandE.svs',\n",
       " '1957_T_9668_2_TP53.svs',\n",
       " '1957_T_9668_3_HandE.svs',\n",
       " '2011_T_9699_2_TP53.svs',\n",
       " '2011_T_9699_3_HandE.svs',\n",
       " '2019_T_9717_2_TP53.svs',\n",
       " '2019_T_9717_3_HandE.svs',\n",
       " '2023_T_9727_2_TP53.svs',\n",
       " '2023_T_9727_3_HandE.svs',\n",
       " '2036_T_9729_2_TP53.svs',\n",
       " '2036_T_9729_3_HandE.svs',\n",
       " '2038_T_11986_2_TP53.svs',\n",
       " '2038_T_11986_3_HandE.svs',\n",
       " '2065_N_12752A_2_HandE.svs',\n",
       " '2065_N_12752A_4_TP53.svs',\n",
       " '2065_T_12756A_2_HandE.svs',\n",
       " '2065_T_12756A_4_TP53.svs',\n",
       " '2075_T_9787_2_TP53.svs',\n",
       " '2075_T_9787_3_HandE.svs',\n",
       " '2090_T_10594_2_TP53.svs',\n",
       " '2090_T_10594_3_HandE.svs',\n",
       " '2107_T_9806_2_TP53.svs',\n",
       " '2107_T_9806_3_HandE.svs',\n",
       " '2112_N_12341B_2_HandE.svs',\n",
       " '2112_N_12341B_4_TP53.svs',\n",
       " '2112_T_12335F_2_HandE.svs',\n",
       " '2112_T_12335F_4_TP53.svs',\n",
       " '2148_N_11397A_2_HandE.svs',\n",
       " '2148_N_11397A_4_TP53.svs',\n",
       " '2148_T_11393A_2_HandE.svs',\n",
       " '2148_T_11393A_4_TP53.svs',\n",
       " '2171_N_11521A_2_HandE.svs',\n",
       " '2171_N_11521A_4_TP53.svs',\n",
       " '2171_T_11524A_2_HandE.svs',\n",
       " '2171_T_11524A_4_TP53.svs',\n",
       " '232_T_13230_2_TP53.svs',\n",
       " '232_T_13230_3_HandE.svs',\n",
       " '2382_T_15360_2_TP53.svs',\n",
       " '2382_T_15360_3_HandE.svs',\n",
       " '526_T_15907_1_CDH1.svs',\n",
       " '526_T_15907_2_TP53.svs',\n",
       " '526_T_15907_3_HandE.svs',\n",
       " '526_T_15915_1_CDH1.svs',\n",
       " '526_T_15915_2_TP53.svs',\n",
       " '526_T_15915_3_HandE.svs',\n",
       " '526_T_15923_1_CDH1.svs',\n",
       " '526_T_15923_2_TP53.svs',\n",
       " '526_T_15923_3_HandE.svs']"
      ]
     },
     "execution_count": 6,
     "metadata": {},
     "output_type": "execute_result"
    }
   ],
   "source": [
    "#Find Slides in directory\n",
    "slides = []\n",
    "for infile in glob.glob('*.svs'):\n",
    "    file, ext = os.path.splitext(infile)\n",
    "    slides.append(infile)\n",
    "slides.sort()\n",
    "slides"
   ]
  },
  {
   "cell_type": "code",
   "execution_count": 8,
   "metadata": {
    "scrolled": false
   },
   "outputs": [],
   "source": [
    "TP53_slides = [slide for slide in slides if 'TP53' in slide]\n",
    "HE_slides = [slide for slide in slides if 'HandE' in slide]"
   ]
  },
  {
   "cell_type": "code",
   "execution_count": 11,
   "metadata": {},
   "outputs": [
    {
     "data": {
      "text/plain": [
       "['1792_T_9500_2_TP53.svs',\n",
       " '1794_T_9504_2_TP53.svs',\n",
       " '1798_T_9514_2_TP53.svs',\n",
       " '1820_N_10545A_4_TP53.svs',\n",
       " '1820_T_105452F_4_TP53.svs',\n",
       " '1843_T_9561_2_TP53.svs',\n",
       " '1879_T_9580_2_TP53.svs',\n",
       " '1910_T_9637_2_TP53.svs',\n",
       " '1915_T_10464_2_TP53.svs',\n",
       " '1919_T_10779_2_TP53.svs',\n",
       " '1928_T_9644_2_TP53.svs',\n",
       " '1932_T_9876_2_TP53.svs',\n",
       " '1939_T_9661_2_TP53.svs',\n",
       " '1957_T_9668_2_TP53.svs',\n",
       " '2011_T_9699_2_TP53.svs',\n",
       " '2019_T_9717_2_TP53.svs',\n",
       " '2023_T_9727_2_TP53.svs',\n",
       " '2036_T_9729_2_TP53.svs',\n",
       " '2038_T_11986_2_TP53.svs',\n",
       " '2065_N_12752A_4_TP53.svs',\n",
       " '2065_T_12756A_4_TP53.svs',\n",
       " '2075_T_9787_2_TP53.svs',\n",
       " '2090_T_10594_2_TP53.svs',\n",
       " '2107_T_9806_2_TP53.svs',\n",
       " '2112_N_12341B_4_TP53.svs',\n",
       " '2112_T_12335F_4_TP53.svs',\n",
       " '2148_N_11397A_4_TP53.svs',\n",
       " '2148_T_11393A_4_TP53.svs',\n",
       " '2171_N_11521A_4_TP53.svs',\n",
       " '2171_T_11524A_4_TP53.svs',\n",
       " '232_T_13230_2_TP53.svs',\n",
       " '2382_T_15360_2_TP53.svs',\n",
       " '526_T_15907_2_TP53.svs',\n",
       " '526_T_15915_2_TP53.svs',\n",
       " '526_T_15923_2_TP53.svs']"
      ]
     },
     "execution_count": 11,
     "metadata": {},
     "output_type": "execute_result"
    }
   ],
   "source": [
    "TP53_slides"
   ]
  },
  {
   "cell_type": "code",
   "execution_count": 16,
   "metadata": {},
   "outputs": [],
   "source": [
    "def highest_mag(slide):\n",
    "    \"\"\"Returns the highest magnification for the slide\n",
    "    \"\"\"\n",
    "    return int(slide.properties['aperio.AppMag'])\n",
    "\n",
    "def level_mags(slide):\n",
    "    \"\"\"Returns the magnification for each level in a slide\n",
    "    \"\"\"\n",
    "    return [highest_mag(slide)/downsample for downsample in slide.level_downsamples]\n",
    "\n",
    "def get_level_size(slide, level):\n",
    "    \"\"\"Returns the dimensions of a level\n",
    "    \"\"\"\n",
    "    return slide.level_dimensions[level]\n",
    "\n",
    "def get_level_mag(slide, level):\n",
    "    \"\"\"Returns the magnification at a particular level\n",
    "    \"\"\"\n",
    "    return level_mags(slide)[level]\n",
    "\n",
    "def get_level_for_mag(slide, mag):\n",
    "    \"\"\"Get the level corresponding to a certain magnification, if available\n",
    "    \"\"\"\n",
    "    level_mags_rounded = list(np.round(level_mags(slide), decimals = 2))\n",
    "    if mag in level_mags_rounded:\n",
    "        return level_mags_rounded.index(mag)\n",
    "    else: \n",
    "        return None\n",
    "    \n",
    "def get_mag_for_size(slide, size):\n",
    "    max_size = slide.dimensions\n",
    "    max_mag = highest_mag(slide)\n",
    "    downsample = np.average([max_dim/size_dim for max_dim, size_dim in zip(max_size, size)])\n",
    "    return max_mag/downsample\n",
    "\n",
    "def get_size_for_mag(slide, mag):\n",
    "    max_size = slide.dimensions\n",
    "    max_mag = highest_mag(slide)\n",
    "    downsample = max_mag/mag\n",
    "    return [np.int(np.round(dim/downsample)) for dim in max_size]\n",
    "\n",
    "def read_slide_at_mag(slide, mag):\n",
    "    exact_level = get_level_for_mag(slide, mag)\n",
    "    if exact_level is not None:\n",
    "        return slide.read_region((0,0), exact_level, get_level_size(slide, exact_level))\n",
    "    else:\n",
    "        max_size = slide.dimensions\n",
    "        region_size = tuple(get_size_for_mag(slide, mag))\n",
    "        downsample = np.average([max_dim/region_dim for max_dim, region_dim in zip(max_size, region_size)])\n",
    "        best_level = slide.get_best_level_for_downsample(downsample)\n",
    "        best_level_size = get_level_size(slide, best_level)\n",
    "        best_level_img = slide.read_region((0,0), best_level, best_level_size)\n",
    "        return best_level_img.resize(region_size, resample = Image.BICUBIC)  "
   ]
  },
  {
   "cell_type": "code",
   "execution_count": 44,
   "metadata": {},
   "outputs": [
    {
     "name": "stdout",
     "output_type": "stream",
     "text": [
      "1792_T_9500_2_TP53_small.jpeg\n",
      "1794_T_9504_2_TP53_small.jpeg\n",
      "1798_T_9514_2_TP53_small.jpeg\n",
      "1820_N_10545A_4_TP53_small.jpeg\n",
      "1820_T_105452F_4_TP53_small.jpeg\n",
      "1843_T_9561_2_TP53_small.jpeg\n",
      "1879_T_9580_2_TP53_small.jpeg\n",
      "1910_T_9637_2_TP53_small.jpeg\n",
      "1915_T_10464_2_TP53_small.jpeg\n",
      "1919_T_10779_2_TP53_small.jpeg\n",
      "1928_T_9644_2_TP53_small.jpeg\n",
      "1932_T_9876_2_TP53_small.jpeg\n",
      "1939_T_9661_2_TP53_small.jpeg\n",
      "1957_T_9668_2_TP53_small.jpeg\n",
      "2011_T_9699_2_TP53_small.jpeg\n",
      "2019_T_9717_2_TP53_small.jpeg\n",
      "2023_T_9727_2_TP53_small.jpeg\n",
      "2036_T_9729_2_TP53_small.jpeg\n",
      "2038_T_11986_2_TP53_small.jpeg\n",
      "2065_N_12752A_4_TP53_small.jpeg\n",
      "2065_T_12756A_4_TP53_small.jpeg\n",
      "2075_T_9787_2_TP53_small.jpeg\n",
      "2090_T_10594_2_TP53_small.jpeg\n",
      "2107_T_9806_2_TP53_small.jpeg\n",
      "2112_N_12341B_4_TP53_small.jpeg\n",
      "2112_T_12335F_4_TP53_small.jpeg\n",
      "2148_N_11397A_4_TP53_small.jpeg\n",
      "2148_T_11393A_4_TP53_small.jpeg\n",
      "2171_N_11521A_4_TP53_small.jpeg\n",
      "2171_T_11524A_4_TP53_small.jpeg\n",
      "232_T_13230_2_TP53_small.jpeg\n",
      "2382_T_15360_2_TP53_small.jpeg\n",
      "526_T_15907_2_TP53_small.jpeg\n",
      "526_T_15915_2_TP53_small.jpeg\n",
      "526_T_15923_2_TP53_small.jpeg\n"
     ]
    }
   ],
   "source": [
    "for slide_name in TP53_slides:\n",
    "    slide = open_slide(slide_name)\n",
    "    slide_pil = read_slide_at_mag(slide, 1)\n",
    "    slide_pil.thumbnail((1000,1000))\n",
    "    slide_pil_name = slide_name[:-4] + '_small.jpeg'\n",
    "    slide_pil.convert('RGB').save(TP53_SAVE_PATH + slide_pil_name, 'JPEG')\n",
    "    print(slide_pil_name)"
   ]
  },
  {
   "cell_type": "code",
   "execution_count": 45,
   "metadata": {},
   "outputs": [
    {
     "name": "stdout",
     "output_type": "stream",
     "text": [
      "1792_T_9500_3_HandE_small.jpeg\n",
      "1794_T_9504_3_HandE_small.jpeg\n",
      "1798_T_9514_3_HandE_small.jpeg\n",
      "1820_N_10545A_2_HandE_small.jpeg\n",
      "1820_T_105452F_2_HandE_small.jpeg\n",
      "1843_T_9561_3_HandE_small.jpeg\n",
      "1879_T_9580_3_HandE_small.jpeg\n",
      "1910_T_9637_3_HandE_small.jpeg\n",
      "1915_T_10464_3_HandE_small.jpeg\n",
      "1919_T_10779_3_HandE_small.jpeg\n",
      "1928_T_9644_3_HandE_small.jpeg\n",
      "1932_T_9876_3_HandE_small.jpeg\n",
      "1939_T_9661_3_HandE_small.jpeg\n",
      "1957_T_9668_3_HandE_small.jpeg\n",
      "2011_T_9699_3_HandE_small.jpeg\n",
      "2019_T_9717_3_HandE_small.jpeg\n",
      "2023_T_9727_3_HandE_small.jpeg\n",
      "2036_T_9729_3_HandE_small.jpeg\n",
      "2038_T_11986_3_HandE_small.jpeg\n",
      "2065_N_12752A_2_HandE_small.jpeg\n",
      "2065_T_12756A_2_HandE_small.jpeg\n",
      "2075_T_9787_3_HandE_small.jpeg\n",
      "2090_T_10594_3_HandE_small.jpeg\n",
      "2107_T_9806_3_HandE_small.jpeg\n",
      "2112_N_12341B_2_HandE_small.jpeg\n",
      "2112_T_12335F_2_HandE_small.jpeg\n",
      "2148_N_11397A_2_HandE_small.jpeg\n",
      "2148_T_11393A_2_HandE_small.jpeg\n",
      "2171_N_11521A_2_HandE_small.jpeg\n",
      "2171_T_11524A_2_HandE_small.jpeg\n",
      "232_T_13230_3_HandE_small.jpeg\n",
      "2382_T_15360_3_HandE_small.jpeg\n",
      "526_T_15907_3_HandE_small.jpeg\n",
      "526_T_15915_3_HandE_small.jpeg\n",
      "526_T_15923_3_HandE_small.jpeg\n"
     ]
    }
   ],
   "source": [
    "for slide_name in HE_slides:\n",
    "    slide = open_slide(slide_name)\n",
    "    slide_pil = read_slide_at_mag(slide, 1)\n",
    "    slide_pil.thumbnail((1000,1000))\n",
    "    slide_pil_name = slide_name[:-4] + '_small.jpeg'\n",
    "    slide_pil.convert('RGB').save(HE_SAVE_PATH + slide_pil_name, 'JPEG')\n",
    "    print(slide_pil_name)"
   ]
  },
  {
   "cell_type": "code",
   "execution_count": null,
   "metadata": {},
   "outputs": [],
   "source": []
  }
 ],
 "metadata": {
  "kernelspec": {
   "display_name": "Python 3",
   "language": "python",
   "name": "python3"
  },
  "language_info": {
   "codemirror_mode": {
    "name": "ipython",
    "version": 3
   },
   "file_extension": ".py",
   "mimetype": "text/x-python",
   "name": "python",
   "nbconvert_exporter": "python",
   "pygments_lexer": "ipython3",
   "version": "3.6.7"
  }
 },
 "nbformat": 4,
 "nbformat_minor": 2
}
