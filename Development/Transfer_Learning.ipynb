{
 "cells": [
  {
   "cell_type": "code",
   "execution_count": 2,
   "metadata": {},
   "outputs": [],
   "source": [
    "from tensorflow.keras import Model\n",
    "from tensorflow.keras import layers\n",
    "from tensorflow.keras import models\n",
    "from tensorflow.keras import optimizers\n",
    "from tensorflow.keras.applications import VGG16, VGG19, Xception, ResNet50, InceptionResNetV2\n",
    "from tensorflow.keras.preprocessing.image import ImageDataGenerator\n",
    "from pathlib import Path"
   ]
  },
  {
   "cell_type": "code",
   "execution_count": 3,
   "metadata": {},
   "outputs": [],
   "source": [
    "import matplotlib.pyplot as plt\n",
    "import numpy as np\n",
    "import pandas as pd\n",
    "from sklearn.metrics import confusion_matrix, classification_report\n",
    "import seaborn as sns"
   ]
  },
  {
   "cell_type": "code",
   "execution_count": 4,
   "metadata": {},
   "outputs": [],
   "source": [
    "# Input\n",
    "#DATA_DIR = Path('/scratch/imb/Andrew/HEMnet')\n",
    "DATA_DIR = Path('/QRISdata/Q1139/ST_Projects/HEMnet/')\n",
    "#TRAIN_DIR = DATA_DIR.joinpath('train_dataset_10x_13_12_19_strict/tiles_10x')\n",
    "#VAL_DIR = DATA_DIR.joinpath('gold_standards/1794_T/tiles_10x')\n",
    "TRAIN_DIR = DATA_DIR.joinpath('Training_Datasets/train_dataset_10x_27_05_20_strict_vahadane2/tiles_10x')\n",
    "VAL_DIR = DATA_DIR.joinpath('Validation_Datasets/val_dataset_10x_24_06_20_vahadane/tiles_10x')\n",
    "\n",
    "# Output"
   ]
  },
  {
   "cell_type": "code",
   "execution_count": 5,
   "metadata": {},
   "outputs": [],
   "source": [
    "TRAIN_CANCER_DIR = TRAIN_DIR.joinpath('cancer')\n",
    "TRAIN_NON_CANCER_DIR = TRAIN_DIR.joinpath('non-cancer')\n",
    "VAL_CANCER_DIR = VAL_DIR.joinpath('cancer')\n",
    "VAL_NON_CANCER_DIR = VAL_DIR.joinpath('non-cancer')"
   ]
  },
  {
   "cell_type": "code",
   "execution_count": 17,
   "metadata": {},
   "outputs": [
    {
     "name": "stdout",
     "output_type": "stream",
     "text": [
      "Training cancer images:  3602\n",
      "Training non-cancer images:  5290\n",
      "Validation cancer images:  2147\n",
      "Validation non-cancer images:  3666\n"
     ]
    }
   ],
   "source": [
    "print('Training cancer images: ', len(list(TRAIN_CANCER_DIR.glob('*jpeg'))))\n",
    "print('Training non-cancer images: ', len(list(TRAIN_NON_CANCER_DIR.glob('*jpeg'))))\n",
    "print('Validation cancer images: ', len(list(VAL_CANCER_DIR.glob('*jpeg'))))\n",
    "print('Validation non-cancer images: ', len(list(VAL_NON_CANCER_DIR.glob('*jpeg'))))"
   ]
  },
  {
   "cell_type": "code",
   "execution_count": 15,
   "metadata": {},
   "outputs": [],
   "source": [
    "train_datagen = ImageDataGenerator(\n",
    "    rescale=1./255,\n",
    "#     rotation_range = 360,\n",
    "#     horizontal_flip = True,\n",
    "     vertical_flip = False)\n",
    "val_datagen = ImageDataGenerator(rescale=1./255)"
   ]
  },
  {
   "cell_type": "code",
   "execution_count": 16,
   "metadata": {},
   "outputs": [
    {
     "name": "stdout",
     "output_type": "stream",
     "text": [
      "Found 8892 images belonging to 2 classes.\n",
      "Found 5813 images belonging to 2 classes.\n"
     ]
    }
   ],
   "source": [
    "#TARGET_SIZE = (299, 299)\n",
    "#TARGET_SIZE = (150, 150)\n",
    "TARGET_SIZE = (224, 224)\n",
    "BATCH_SIZE = 512\n",
    "\n",
    "train_generator = train_datagen.flow_from_directory(\n",
    "    TRAIN_DIR,\n",
    "    classes = ['cancer','non-cancer'],\n",
    "    target_size = TARGET_SIZE,\n",
    "    batch_size = BATCH_SIZE,\n",
    "    class_mode = 'binary')\n",
    "\n",
    "val_generator = val_datagen.flow_from_directory(\n",
    "    VAL_DIR,\n",
    "    classes = ['cancer','non-cancer'],\n",
    "    target_size = TARGET_SIZE,\n",
    "    batch_size = BATCH_SIZE,\n",
    "    class_mode = 'binary',\n",
    "    shuffle = False)"
   ]
  },
  {
   "cell_type": "code",
   "execution_count": 53,
   "metadata": {},
   "outputs": [],
   "source": [
    "num_of_val_samples = 1745"
   ]
  },
  {
   "cell_type": "code",
   "execution_count": 54,
   "metadata": {},
   "outputs": [],
   "source": [
    "# xception_base = Xception(weights = 'imagenet', include_top = False)\n",
    "# x = xception_base.output\n",
    "# features = layers.GlobalMaxPooling2D()(x)\n",
    "\n",
    "# conv_base = Model(xception_base.input, features)"
   ]
  },
  {
   "cell_type": "code",
   "execution_count": 18,
   "metadata": {},
   "outputs": [
    {
     "name": "stdout",
     "output_type": "stream",
     "text": [
      "WARNING:tensorflow:From /gpfs1/scratch/90days/s4436005/envs/lib/python3.6/site-packages/tensorflow/python/ops/resource_variable_ops.py:435: colocate_with (from tensorflow.python.framework.ops) is deprecated and will be removed in a future version.\n",
      "Instructions for updating:\n",
      "Colocations handled automatically by placer.\n"
     ]
    }
   ],
   "source": [
    "# conv_base = VGG16(weights = 'imagenet', include_top = False, input_shape = (150, 150, 3))\n",
    "conv_base = VGG16(weights = 'imagenet', include_top = False, input_shape = (224, 224, 3))\n",
    "#conv_base = VGG19(weights = 'imagenet', include_top = False, input_shape = (224, 224, 3))"
   ]
  },
  {
   "cell_type": "code",
   "execution_count": 19,
   "metadata": {},
   "outputs": [
    {
     "name": "stdout",
     "output_type": "stream",
     "text": [
      "_________________________________________________________________\n",
      "Layer (type)                 Output Shape              Param #   \n",
      "=================================================================\n",
      "input_1 (InputLayer)         (None, 224, 224, 3)       0         \n",
      "_________________________________________________________________\n",
      "block1_conv1 (Conv2D)        (None, 224, 224, 64)      1792      \n",
      "_________________________________________________________________\n",
      "block1_conv2 (Conv2D)        (None, 224, 224, 64)      36928     \n",
      "_________________________________________________________________\n",
      "block1_pool (MaxPooling2D)   (None, 112, 112, 64)      0         \n",
      "_________________________________________________________________\n",
      "block2_conv1 (Conv2D)        (None, 112, 112, 128)     73856     \n",
      "_________________________________________________________________\n",
      "block2_conv2 (Conv2D)        (None, 112, 112, 128)     147584    \n",
      "_________________________________________________________________\n",
      "block2_pool (MaxPooling2D)   (None, 56, 56, 128)       0         \n",
      "_________________________________________________________________\n",
      "block3_conv1 (Conv2D)        (None, 56, 56, 256)       295168    \n",
      "_________________________________________________________________\n",
      "block3_conv2 (Conv2D)        (None, 56, 56, 256)       590080    \n",
      "_________________________________________________________________\n",
      "block3_conv3 (Conv2D)        (None, 56, 56, 256)       590080    \n",
      "_________________________________________________________________\n",
      "block3_pool (MaxPooling2D)   (None, 28, 28, 256)       0         \n",
      "_________________________________________________________________\n",
      "block4_conv1 (Conv2D)        (None, 28, 28, 512)       1180160   \n",
      "_________________________________________________________________\n",
      "block4_conv2 (Conv2D)        (None, 28, 28, 512)       2359808   \n",
      "_________________________________________________________________\n",
      "block4_conv3 (Conv2D)        (None, 28, 28, 512)       2359808   \n",
      "_________________________________________________________________\n",
      "block4_pool (MaxPooling2D)   (None, 14, 14, 512)       0         \n",
      "_________________________________________________________________\n",
      "block5_conv1 (Conv2D)        (None, 14, 14, 512)       2359808   \n",
      "_________________________________________________________________\n",
      "block5_conv2 (Conv2D)        (None, 14, 14, 512)       2359808   \n",
      "_________________________________________________________________\n",
      "block5_conv3 (Conv2D)        (None, 14, 14, 512)       2359808   \n",
      "_________________________________________________________________\n",
      "block5_pool (MaxPooling2D)   (None, 7, 7, 512)         0         \n",
      "=================================================================\n",
      "Total params: 14,714,688\n",
      "Trainable params: 14,714,688\n",
      "Non-trainable params: 0\n",
      "_________________________________________________________________\n"
     ]
    }
   ],
   "source": [
    "conv_base.summary()"
   ]
  },
  {
   "cell_type": "code",
   "execution_count": 20,
   "metadata": {},
   "outputs": [
    {
     "data": {
      "text/plain": [
       "(None, 224, 224, 3)"
      ]
     },
     "execution_count": 20,
     "metadata": {},
     "output_type": "execute_result"
    }
   ],
   "source": [
    "conv_base.input_shape"
   ]
  },
  {
   "cell_type": "code",
   "execution_count": 21,
   "metadata": {},
   "outputs": [
    {
     "data": {
      "text/plain": [
       "(None, 7, 7, 512)"
      ]
     },
     "execution_count": 21,
     "metadata": {},
     "output_type": "execute_result"
    }
   ],
   "source": [
    "conv_base.output_shape"
   ]
  },
  {
   "cell_type": "code",
   "execution_count": 22,
   "metadata": {},
   "outputs": [],
   "source": [
    "model = models.Sequential()\n",
    "model.add(conv_base)\n",
    "model.add(layers.Flatten())\n",
    "model.add(layers.Dense(256, activation = 'relu'))\n",
    "model.add(layers.Dense(1, activation = 'sigmoid'))"
   ]
  },
  {
   "cell_type": "code",
   "execution_count": 23,
   "metadata": {},
   "outputs": [
    {
     "name": "stdout",
     "output_type": "stream",
     "text": [
      "_________________________________________________________________\n",
      "Layer (type)                 Output Shape              Param #   \n",
      "=================================================================\n",
      "vgg16 (Model)                (None, 7, 7, 512)         14714688  \n",
      "_________________________________________________________________\n",
      "flatten (Flatten)            (None, 25088)             0         \n",
      "_________________________________________________________________\n",
      "dense (Dense)                (None, 256)               6422784   \n",
      "_________________________________________________________________\n",
      "dense_1 (Dense)              (None, 1)                 257       \n",
      "=================================================================\n",
      "Total params: 21,137,729\n",
      "Trainable params: 21,137,729\n",
      "Non-trainable params: 0\n",
      "_________________________________________________________________\n"
     ]
    }
   ],
   "source": [
    "model.summary()"
   ]
  },
  {
   "cell_type": "code",
   "execution_count": 25,
   "metadata": {},
   "outputs": [
    {
     "name": "stdout",
     "output_type": "stream",
     "text": [
      "This is the number of trainable weights before freezing the conv base: 30\n"
     ]
    }
   ],
   "source": [
    "print('This is the number of trainable weights '\n",
    "         'before freezing the conv base:', len(model.trainable_weights))"
   ]
  },
  {
   "cell_type": "code",
   "execution_count": 26,
   "metadata": {},
   "outputs": [],
   "source": [
    "conv_base.trainable = False"
   ]
  },
  {
   "cell_type": "code",
   "execution_count": 27,
   "metadata": {},
   "outputs": [
    {
     "name": "stdout",
     "output_type": "stream",
     "text": [
      "This is the number of trainable weights after freezing the conv base: 4\n"
     ]
    }
   ],
   "source": [
    "print('This is the number of trainable weights '\n",
    "          'after freezing the conv base:', len(model.trainable_weights))"
   ]
  },
  {
   "cell_type": "code",
   "execution_count": 28,
   "metadata": {},
   "outputs": [],
   "source": [
    "model.compile(loss='binary_crossentropy',\n",
    "              optimizer=optimizers.RMSprop(lr=2e-5),\n",
    "              metrics=['acc'])\n",
    "\n",
    "# model.compile(loss='binary_crossentropy',\n",
    "#               optimizer=optimizers.Adam(),\n",
    "#               metrics=['acc'])"
   ]
  },
  {
   "cell_type": "code",
   "execution_count": null,
   "metadata": {
    "scrolled": false
   },
   "outputs": [
    {
     "name": "stdout",
     "output_type": "stream",
     "text": [
      "WARNING:tensorflow:From /gpfs1/scratch/90days/s4436005/envs/lib/python3.6/site-packages/tensorflow/python/ops/math_ops.py:3066: to_int32 (from tensorflow.python.ops.math_ops) is deprecated and will be removed in a future version.\n",
      "Instructions for updating:\n",
      "Use tf.cast instead.\n",
      "Epoch 1/30\n",
      "12/12 [==============================] - 631s 53s/step - loss: 0.7417 - acc: 0.6454\n",
      "18/18 [==============================] - 1622s 90s/step - loss: 0.4011 - acc: 0.8277 - val_loss: 0.7417 - val_acc: 0.6454\n",
      "Epoch 2/30\n",
      "12/12 [==============================] - 633s 53s/step - loss: 0.7033 - acc: 0.6805\n",
      "18/18 [==============================] - 1598s 89s/step - loss: 0.2117 - acc: 0.9288 - val_loss: 0.7033 - val_acc: 0.6805\n",
      "Epoch 3/30\n",
      "12/12 [==============================] - 636s 53s/step - loss: 0.6724 - acc: 0.7050\n",
      "18/18 [==============================] - 1598s 89s/step - loss: 0.1751 - acc: 0.9388 - val_loss: 0.6724 - val_acc: 0.7050\n",
      "Epoch 4/30\n",
      "12/12 [==============================] - 639s 53s/step - loss: 0.6771 - acc: 0.7125\n",
      "18/18 [==============================] - 1616s 90s/step - loss: 0.1529 - acc: 0.9453 - val_loss: 0.6771 - val_acc: 0.7125\n",
      "Epoch 5/30\n",
      "12/12 [==============================] - 639s 53s/step - loss: 0.6030 - acc: 0.7387\n",
      "18/18 [==============================] - 1610s 89s/step - loss: 0.1347 - acc: 0.9502 - val_loss: 0.6030 - val_acc: 0.7387\n",
      "Epoch 6/30\n",
      "12/12 [==============================] - 639s 53s/step - loss: 0.6794 - acc: 0.7230\n",
      "18/18 [==============================] - 1604s 89s/step - loss: 0.1244 - acc: 0.9575 - val_loss: 0.6794 - val_acc: 0.7230\n",
      "Epoch 7/30\n",
      "12/12 [==============================] - 638s 53s/step - loss: 0.6839 - acc: 0.7280\n",
      "18/18 [==============================] - 1608s 89s/step - loss: 0.1157 - acc: 0.9601 - val_loss: 0.6839 - val_acc: 0.7280\n",
      "Epoch 8/30\n",
      "12/12 [==============================] - 638s 53s/step - loss: 0.8011 - acc: 0.7045\n",
      "18/18 [==============================] - 1609s 89s/step - loss: 0.1093 - acc: 0.9627 - val_loss: 0.8011 - val_acc: 0.7045\n",
      "Epoch 9/30\n",
      "12/12 [==============================] - 640s 53s/step - loss: 0.6314 - acc: 0.7425\n",
      "18/18 [==============================] - 1613s 90s/step - loss: 0.1026 - acc: 0.9655 - val_loss: 0.6314 - val_acc: 0.7425\n",
      "Epoch 10/30\n",
      "12/12 [==============================] - 635s 53s/step - loss: 0.7144 - acc: 0.7260\n",
      "18/18 [==============================] - 1605s 89s/step - loss: 0.0980 - acc: 0.9667 - val_loss: 0.7144 - val_acc: 0.7260\n",
      "Epoch 11/30\n",
      "12/12 [==============================] - 643s 54s/step - loss: 0.9735 - acc: 0.6730\n",
      "18/18 [==============================] - 1612s 90s/step - loss: 0.0904 - acc: 0.9692 - val_loss: 0.9735 - val_acc: 0.6730\n",
      "Epoch 12/30\n",
      "12/12 [==============================] - 639s 53s/step - loss: 0.8955 - acc: 0.6928\n",
      "18/18 [==============================] - 1606s 89s/step - loss: 0.0887 - acc: 0.9701 - val_loss: 0.8955 - val_acc: 0.6928\n",
      "Epoch 13/30\n",
      "16/18 [=========================>....] - ETA: 1:46 - loss: 0.0832 - acc: 0.9708"
     ]
    }
   ],
   "source": [
    "history = model.fit_generator(\n",
    "    train_generator,\n",
    "    epochs = 30,\n",
    "    steps_per_epoch = 20,\n",
    "    validation_data = val_generator)"
   ]
  },
  {
   "cell_type": "code",
   "execution_count": 65,
   "metadata": {},
   "outputs": [
    {
     "data": {
      "image/png": "[encoded data removed]",
      "text/plain": [
       "<matplotlib.figure.Figure at 0x7ff6a3d87b38>"
      ]
     },
     "metadata": {},
     "output_type": "display_data"
    }
   ],
   "source": [
    "# Plot training & validation accuracy values\n",
    "plt.plot(history.history['acc'])\n",
    "plt.plot(history.history['val_acc'])\n",
    "plt.title('Model accuracy')\n",
    "plt.ylabel('Accuracy')\n",
    "plt.xlabel('Epoch')\n",
    "plt.legend(['Train', 'Test'], loc='upper left')\n",
    "plt.show()"
   ]
  },
  {
   "cell_type": "code",
   "execution_count": 66,
   "metadata": {},
   "outputs": [
    {
     "data": {
      "image/png": "[encoded data removed]",
      "text/plain": [
       "<matplotlib.figure.Figure at 0x7ff6a3d1e048>"
      ]
     },
     "metadata": {},
     "output_type": "display_data"
    }
   ],
   "source": [
    "# Plot training & validation loss values\n",
    "plt.plot(history.history['loss'])\n",
    "plt.plot(history.history['val_loss'])\n",
    "plt.title('Model loss')\n",
    "plt.ylabel('Loss')\n",
    "plt.xlabel('Epoch')\n",
    "plt.legend(['Train', 'Test'], loc='upper left')\n",
    "plt.show()"
   ]
  },
  {
   "cell_type": "code",
   "execution_count": 67,
   "metadata": {},
   "outputs": [
    {
     "data": {
      "text/plain": [
       "(array([890., 125.,  82.,  53.,  44.,  53.,  47.,  49.,  72., 329.]),\n",
       " array([1.14262104e-04, 1.00050038e-01, 1.99985814e-01, 2.99921590e-01,\n",
       "        3.99857366e-01, 4.99793142e-01, 5.99728918e-01, 6.99664694e-01,\n",
       "        7.99600470e-01, 8.99536246e-01, 9.99472022e-01]),\n",
       " <a list of 10 Patch objects>)"
      ]
     },
     "execution_count": 67,
     "metadata": {},
     "output_type": "execute_result"
    },
    {
     "data": {
      "image/png": "[encoded data removed]",
      "text/plain": [
       "<matplotlib.figure.Figure at 0x7ff6b2231c50>"
      ]
     },
     "metadata": {},
     "output_type": "display_data"
    }
   ],
   "source": [
    "Y_pred = model.predict_generator(val_generator, num_of_val_samples // BATCH_SIZE + 1)\n",
    "plt.hist(Y_pred)"
   ]
  },
  {
   "cell_type": "code",
   "execution_count": 68,
   "metadata": {},
   "outputs": [
    {
     "data": {
      "text/plain": [
       "{'cancer': 0, 'non-cancer': 1}"
      ]
     },
     "execution_count": 68,
     "metadata": {},
     "output_type": "execute_result"
    }
   ],
   "source": [
    "val_generator.class_indices"
   ]
  },
  {
   "cell_type": "code",
   "execution_count": 69,
   "metadata": {},
   "outputs": [],
   "source": [
    "y_pred = np.round(Y_pred)"
   ]
  },
  {
   "cell_type": "code",
   "execution_count": 70,
   "metadata": {},
   "outputs": [
    {
     "data": {
      "text/plain": [
       "(array([0., 1.], dtype=float32), array([1194,  550]))"
      ]
     },
     "execution_count": 70,
     "metadata": {},
     "output_type": "execute_result"
    }
   ],
   "source": [
    "np.unique(y_pred, return_counts = True)"
   ]
  },
  {
   "cell_type": "code",
   "execution_count": 71,
   "metadata": {},
   "outputs": [
    {
     "data": {
      "text/plain": [
       "array([[990,  34],\n",
       "       [204, 516]])"
      ]
     },
     "execution_count": 71,
     "metadata": {},
     "output_type": "execute_result"
    }
   ],
   "source": [
    "cm = confusion_matrix(val_generator.classes, y_pred)\n",
    "cm"
   ]
  },
  {
   "cell_type": "code",
   "execution_count": 72,
   "metadata": {},
   "outputs": [],
   "source": [
    "def plot_confusion_matrix(cm, classes=None):\n",
    "    #Normalise Confusion Matrix by dividing each value by the sum of that row\n",
    "    cm = cm.astype('float')/cm.sum(axis = 1)[:, np.newaxis]\n",
    "    print(cm)\n",
    "    #Make DataFrame from Confusion Matrix and classes\n",
    "    cm_df = pd.DataFrame(cm, index = classes, columns = classes)\n",
    "    #Display Confusion Matrix \n",
    "    plt.figure(figsize = (4,4), dpi = 300)\n",
    "    cm_plot = sns.heatmap(cm_df, vmin = 0, vmax = 1, annot = True, fmt = '.2f', cmap = 'Blues', square = True)\n",
    "    plt.title('Confusion Matrix', fontsize = 12)\n",
    "    #Display axes labels\n",
    "    plt.ylabel('True label', fontsize = 12)\n",
    "    plt.xlabel('Predicted label', fontsize = 12)\n",
    "    plt.savefig('./age_confusion_matrix_combine.pdf')\n",
    "    plt.tight_layout()\n",
    "    return cm_plot"
   ]
  },
  {
   "cell_type": "code",
   "execution_count": 73,
   "metadata": {},
   "outputs": [
    {
     "name": "stdout",
     "output_type": "stream",
     "text": [
      "[[0.96679688 0.03320312]\n",
      " [0.28333333 0.71666667]]\n"
     ]
    },
    {
     "data": {
      "text/plain": [
       "<matplotlib.axes._subplots.AxesSubplot at 0x7ff6a3d85d30>"
      ]
     },
     "execution_count": 73,
     "metadata": {},
     "output_type": "execute_result"
    },
    {
     "data": {
      "image/png": "[encoded data removed]",
      "text/plain": [
       "<matplotlib.figure.Figure at 0x7ff6a3c19240>"
      ]
     },
     "metadata": {},
     "output_type": "display_data"
    }
   ],
   "source": [
    "plot_confusion_matrix(cm)"
   ]
  },
  {
   "cell_type": "code",
   "execution_count": null,
   "metadata": {},
   "outputs": [],
   "source": []
  }
 ],
 "metadata": {
  "kernelspec": {
   "display_name": "Python 3",
   "language": "python",
   "name": "python3"
  },
  "language_info": {
   "codemirror_mode": {
    "name": "ipython",
    "version": 3
   },
   "file_extension": ".py",
   "mimetype": "text/x-python",
   "name": "python",
   "nbconvert_exporter": "python",
   "pygments_lexer": "ipython3",
   "version": "3.6.7"
  }
 },
 "nbformat": 4,
 "nbformat_minor": 2
}
