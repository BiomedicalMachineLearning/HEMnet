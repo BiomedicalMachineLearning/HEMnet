{
 "cells": [
  {
   "cell_type": "code",
   "execution_count": 76,
   "metadata": {},
   "outputs": [],
   "source": [
    "from tensorflow.keras import Model\n",
    "from tensorflow.keras import layers\n",
    "from tensorflow.keras import models\n",
    "from tensorflow.keras import optimizers\n",
    "from tensorflow.keras.applications import VGG16, Xception, ResNet50, InceptionResNetV2\n",
    "from tensorflow.keras.preprocessing.image import ImageDataGenerator\n",
    "from pathlib import Path"
   ]
  },
  {
   "cell_type": "code",
   "execution_count": 154,
   "metadata": {},
   "outputs": [],
   "source": [
    "import matplotlib.pyplot as plt\n",
    "import numpy as np\n",
    "import pandas as pd\n",
    "from sklearn.metrics import confusion_matrix, classification_report\n",
    "import seaborn as sns"
   ]
  },
  {
   "cell_type": "code",
   "execution_count": 79,
   "metadata": {},
   "outputs": [],
   "source": [
    "# Input\n",
    "DATA_DIR = Path('/scratch/imb/Andrew/HEMnet')\n",
    "TRAIN_DIR = DATA_DIR.joinpath('train_dataset_10x_13_12_19_strict/tiles_10x')\n",
    "VAL_DIR = DATA_DIR.joinpath('gold_standards/1794_T/tiles_10x')\n",
    "\n",
    "# Output"
   ]
  },
  {
   "cell_type": "code",
   "execution_count": 80,
   "metadata": {},
   "outputs": [],
   "source": [
    "TRAIN_CANCER_DIR = TRAIN_DIR.joinpath('cancer')\n",
    "TRAIN_NON_CANCER_DIR = TRAIN_DIR.joinpath('non-cancer')\n",
    "VAL_CANCER_DIR = VAL_DIR.joinpath('cancer')\n",
    "VAL_NON_CANCER_DIR = VAL_DIR.joinpath('non-cancer')"
   ]
  },
  {
   "cell_type": "code",
   "execution_count": 81,
   "metadata": {},
   "outputs": [
    {
     "name": "stdout",
     "output_type": "stream",
     "text": [
      "Training cancer images:  2979\n",
      "Training non-cancer images:  3315\n",
      "Validation cancer images:  1021\n",
      "Validation non-cancer images:  724\n"
     ]
    }
   ],
   "source": [
    "print('Training cancer images: ', len(list(TRAIN_CANCER_DIR.glob('*jpeg'))))\n",
    "print('Training non-cancer images: ', len(list(TRAIN_NON_CANCER_DIR.glob('*jpeg'))))\n",
    "print('Validation cancer images: ', len(list(VAL_CANCER_DIR.glob('*jpeg'))))\n",
    "print('Validation non-cancer images: ', len(list(VAL_NON_CANCER_DIR.glob('*jpeg'))))"
   ]
  },
  {
   "cell_type": "code",
   "execution_count": 164,
   "metadata": {},
   "outputs": [],
   "source": [
    "train_datagen = ImageDataGenerator(\n",
    "    rescale=1./255,\n",
    "    rotation_range = 360,\n",
    "    horizontal_flip = True,\n",
    "    vertical_flip = True)\n",
    "val_datagen = ImageDataGenerator(rescale=1./255)"
   ]
  },
  {
   "cell_type": "code",
   "execution_count": 165,
   "metadata": {},
   "outputs": [
    {
     "name": "stdout",
     "output_type": "stream",
     "text": [
      "Found 6294 images belonging to 2 classes.\n",
      "Found 1745 images belonging to 2 classes.\n"
     ]
    }
   ],
   "source": [
    "#TARGET_SIZE = (299, 299)\n",
    "TARGET_SIZE = (150, 150)\n",
    "BATCH_SIZE = 512\n",
    "\n",
    "train_generator = train_datagen.flow_from_directory(\n",
    "    TRAIN_DIR,\n",
    "    classes = ['cancer','non-cancer'],\n",
    "    target_size = TARGET_SIZE,\n",
    "    batch_size = BATCH_SIZE,\n",
    "    class_mode = 'binary')\n",
    "\n",
    "val_generator = val_datagen.flow_from_directory(\n",
    "    VAL_DIR,\n",
    "    classes = ['cancer','non-cancer'],\n",
    "    target_size = TARGET_SIZE,\n",
    "    batch_size = BATCH_SIZE,\n",
    "    class_mode = 'binary',\n",
    "    shuffle = False)"
   ]
  },
  {
   "cell_type": "code",
   "execution_count": 166,
   "metadata": {},
   "outputs": [],
   "source": [
    "num_of_val_samples = 1745"
   ]
  },
  {
   "cell_type": "code",
   "execution_count": 167,
   "metadata": {},
   "outputs": [],
   "source": [
    "# xception_base = Xception(weights = 'imagenet', include_top = False)\n",
    "# x = xception_base.output\n",
    "# features = layers.GlobalMaxPooling2D()(x)\n",
    "\n",
    "# conv_base = Model(xception_base.input, features)"
   ]
  },
  {
   "cell_type": "code",
   "execution_count": 97,
   "metadata": {},
   "outputs": [
    {
     "name": "stdout",
     "output_type": "stream",
     "text": [
      "Downloading data from https://github.com/fchollet/deep-learning-models/releases/download/v0.1/vgg16_weights_tf_dim_ordering_tf_kernels_notop.h5\n",
      "58892288/58889256 [==============================] - 6s 0us/step\n"
     ]
    }
   ],
   "source": [
    "conv_base = VGG16(weights = 'imagenet', include_top = False, input_shape = (150, 150, 3))"
   ]
  },
  {
   "cell_type": "code",
   "execution_count": 120,
   "metadata": {},
   "outputs": [
    {
     "name": "stdout",
     "output_type": "stream",
     "text": [
      "_________________________________________________________________\n",
      "Layer (type)                 Output Shape              Param #   \n",
      "=================================================================\n",
      "input_3 (InputLayer)         (None, 150, 150, 3)       0         \n",
      "_________________________________________________________________\n",
      "block1_conv1 (Conv2D)        (None, 150, 150, 64)      1792      \n",
      "_________________________________________________________________\n",
      "block1_conv2 (Conv2D)        (None, 150, 150, 64)      36928     \n",
      "_________________________________________________________________\n",
      "block1_pool (MaxPooling2D)   (None, 75, 75, 64)        0         \n",
      "_________________________________________________________________\n",
      "block2_conv1 (Conv2D)        (None, 75, 75, 128)       73856     \n",
      "_________________________________________________________________\n",
      "block2_conv2 (Conv2D)        (None, 75, 75, 128)       147584    \n",
      "_________________________________________________________________\n",
      "block2_pool (MaxPooling2D)   (None, 37, 37, 128)       0         \n",
      "_________________________________________________________________\n",
      "block3_conv1 (Conv2D)        (None, 37, 37, 256)       295168    \n",
      "_________________________________________________________________\n",
      "block3_conv2 (Conv2D)        (None, 37, 37, 256)       590080    \n",
      "_________________________________________________________________\n",
      "block3_conv3 (Conv2D)        (None, 37, 37, 256)       590080    \n",
      "_________________________________________________________________\n",
      "block3_pool (MaxPooling2D)   (None, 18, 18, 256)       0         \n",
      "_________________________________________________________________\n",
      "block4_conv1 (Conv2D)        (None, 18, 18, 512)       1180160   \n",
      "_________________________________________________________________\n",
      "block4_conv2 (Conv2D)        (None, 18, 18, 512)       2359808   \n",
      "_________________________________________________________________\n",
      "block4_conv3 (Conv2D)        (None, 18, 18, 512)       2359808   \n",
      "_________________________________________________________________\n",
      "block4_pool (MaxPooling2D)   (None, 9, 9, 512)         0         \n",
      "_________________________________________________________________\n",
      "block5_conv1 (Conv2D)        (None, 9, 9, 512)         2359808   \n",
      "_________________________________________________________________\n",
      "block5_conv2 (Conv2D)        (None, 9, 9, 512)         2359808   \n",
      "_________________________________________________________________\n",
      "block5_conv3 (Conv2D)        (None, 9, 9, 512)         2359808   \n",
      "_________________________________________________________________\n",
      "block5_pool (MaxPooling2D)   (None, 4, 4, 512)         0         \n",
      "=================================================================\n",
      "Total params: 14,714,688\n",
      "Trainable params: 0\n",
      "Non-trainable params: 14,714,688\n",
      "_________________________________________________________________\n"
     ]
    }
   ],
   "source": [
    "conv_base.summary()"
   ]
  },
  {
   "cell_type": "code",
   "execution_count": 99,
   "metadata": {},
   "outputs": [
    {
     "data": {
      "text/plain": [
       "(None, 4, 4, 512)"
      ]
     },
     "execution_count": 99,
     "metadata": {},
     "output_type": "execute_result"
    }
   ],
   "source": [
    "conv_base.output_shape"
   ]
  },
  {
   "cell_type": "code",
   "execution_count": 168,
   "metadata": {},
   "outputs": [],
   "source": [
    "model = models.Sequential()\n",
    "model.add(conv_base)\n",
    "model.add(layers.Flatten())\n",
    "model.add(layers.Dense(256, activation = 'relu'))\n",
    "model.add(layers.Dense(1, activation = 'sigmoid'))"
   ]
  },
  {
   "cell_type": "code",
   "execution_count": 169,
   "metadata": {},
   "outputs": [
    {
     "name": "stdout",
     "output_type": "stream",
     "text": [
      "_________________________________________________________________\n",
      "Layer (type)                 Output Shape              Param #   \n",
      "=================================================================\n",
      "vgg16 (Model)                (None, 4, 4, 512)         14714688  \n",
      "_________________________________________________________________\n",
      "flatten_3 (Flatten)          (None, 8192)              0         \n",
      "_________________________________________________________________\n",
      "dense_19 (Dense)             (None, 256)               2097408   \n",
      "_________________________________________________________________\n",
      "dense_20 (Dense)             (None, 1)                 257       \n",
      "=================================================================\n",
      "Total params: 16,812,353\n",
      "Trainable params: 2,097,665\n",
      "Non-trainable params: 14,714,688\n",
      "_________________________________________________________________\n"
     ]
    }
   ],
   "source": [
    "model.summary()"
   ]
  },
  {
   "cell_type": "code",
   "execution_count": 170,
   "metadata": {},
   "outputs": [
    {
     "name": "stdout",
     "output_type": "stream",
     "text": [
      "This is the number of trainable weights before freezing the conv base: 4\n"
     ]
    }
   ],
   "source": [
    "print('This is the number of trainable weights '\n",
    "         'before freezing the conv base:', len(model.trainable_weights))"
   ]
  },
  {
   "cell_type": "code",
   "execution_count": 171,
   "metadata": {},
   "outputs": [],
   "source": [
    "conv_base.trainable = False"
   ]
  },
  {
   "cell_type": "code",
   "execution_count": 172,
   "metadata": {},
   "outputs": [
    {
     "name": "stdout",
     "output_type": "stream",
     "text": [
      "This is the number of trainable weights after freezing the conv base: 4\n"
     ]
    }
   ],
   "source": [
    "print('This is the number of trainable weights '\n",
    "          'after freezing the conv base:', len(model.trainable_weights))"
   ]
  },
  {
   "cell_type": "code",
   "execution_count": 173,
   "metadata": {},
   "outputs": [],
   "source": [
    "model.compile(loss='binary_crossentropy',\n",
    "              optimizer=optimizers.RMSprop(lr=2e-5),\n",
    "              metrics=['acc'])\n",
    "\n",
    "# model.compile(loss='binary_crossentropy',\n",
    "#               optimizer=optimizers.Adam(),\n",
    "#               metrics=['acc'])"
   ]
  },
  {
   "cell_type": "code",
   "execution_count": 175,
   "metadata": {
    "scrolled": false
   },
   "outputs": [
    {
     "name": "stdout",
     "output_type": "stream",
     "text": [
      "Epoch 1/30\n",
      "4/4 [==============================] - 3s 825ms/step - loss: 0.7336 - acc: 0.5582\n",
      "13/13 [==============================] - 34s 3s/step - loss: 0.5208 - acc: 0.7915 - val_loss: 0.7336 - val_acc: 0.5582\n",
      "Epoch 2/30\n",
      "4/4 [==============================] - 3s 838ms/step - loss: 0.7044 - acc: 0.5851\n",
      "13/13 [==============================] - 30s 2s/step - loss: 0.4114 - acc: 0.8335 - val_loss: 0.7044 - val_acc: 0.5851\n",
      "Epoch 3/30\n",
      "4/4 [==============================] - 3s 845ms/step - loss: 0.6447 - acc: 0.6395\n",
      "13/13 [==============================] - 30s 2s/step - loss: 0.3560 - acc: 0.8568 - val_loss: 0.6447 - val_acc: 0.6395\n",
      "Epoch 4/30\n",
      "4/4 [==============================] - 3s 848ms/step - loss: 0.5995 - acc: 0.6946\n",
      "13/13 [==============================] - 30s 2s/step - loss: 0.3156 - acc: 0.8740 - val_loss: 0.5995 - val_acc: 0.6946\n",
      "Epoch 5/30\n",
      "4/4 [==============================] - 3s 841ms/step - loss: 0.5655 - acc: 0.7370\n",
      "13/13 [==============================] - 30s 2s/step - loss: 0.2927 - acc: 0.8853 - val_loss: 0.5655 - val_acc: 0.7370\n",
      "Epoch 6/30\n",
      "4/4 [==============================] - 3s 838ms/step - loss: 0.4910 - acc: 0.7862\n",
      "13/13 [==============================] - 30s 2s/step - loss: 0.2772 - acc: 0.8869 - val_loss: 0.4910 - val_acc: 0.7862\n",
      "Epoch 7/30\n",
      "4/4 [==============================] - 3s 838ms/step - loss: 0.4890 - acc: 0.7868\n",
      "13/13 [==============================] - 30s 2s/step - loss: 0.2634 - acc: 0.8972 - val_loss: 0.4890 - val_acc: 0.7868\n",
      "Epoch 8/30\n",
      "4/4 [==============================] - 3s 842ms/step - loss: 0.4737 - acc: 0.7960\n",
      "13/13 [==============================] - 30s 2s/step - loss: 0.2531 - acc: 0.9004 - val_loss: 0.4737 - val_acc: 0.7960\n",
      "Epoch 9/30\n",
      "4/4 [==============================] - 3s 846ms/step - loss: 0.4752 - acc: 0.8029\n",
      "13/13 [==============================] - 30s 2s/step - loss: 0.2406 - acc: 0.9074 - val_loss: 0.4752 - val_acc: 0.8029\n",
      "Epoch 10/30\n",
      "4/4 [==============================] - 3s 848ms/step - loss: 0.4676 - acc: 0.8057\n",
      "13/13 [==============================] - 30s 2s/step - loss: 0.2362 - acc: 0.9080 - val_loss: 0.4676 - val_acc: 0.8057\n",
      "Epoch 11/30\n",
      "4/4 [==============================] - 3s 844ms/step - loss: 0.4497 - acc: 0.8172\n",
      "13/13 [==============================] - 30s 2s/step - loss: 0.2277 - acc: 0.9126 - val_loss: 0.4497 - val_acc: 0.8172\n",
      "Epoch 12/30\n",
      "4/4 [==============================] - 3s 838ms/step - loss: 0.4185 - acc: 0.8258\n",
      "13/13 [==============================] - 30s 2s/step - loss: 0.2189 - acc: 0.9118 - val_loss: 0.4185 - val_acc: 0.8258\n",
      "Epoch 13/30\n",
      "4/4 [==============================] - 3s 846ms/step - loss: 0.4347 - acc: 0.8246\n",
      "13/13 [==============================] - 30s 2s/step - loss: 0.2201 - acc: 0.9093 - val_loss: 0.4347 - val_acc: 0.8246\n",
      "Epoch 14/30\n",
      "4/4 [==============================] - 3s 842ms/step - loss: 0.4203 - acc: 0.8315\n",
      "13/13 [==============================] - 30s 2s/step - loss: 0.2144 - acc: 0.9179 - val_loss: 0.4203 - val_acc: 0.8315\n",
      "Epoch 15/30\n",
      "4/4 [==============================] - 3s 859ms/step - loss: 0.4110 - acc: 0.8372\n",
      "13/13 [==============================] - 30s 2s/step - loss: 0.2064 - acc: 0.9225 - val_loss: 0.4110 - val_acc: 0.8372\n",
      "Epoch 16/30\n",
      "4/4 [==============================] - 3s 854ms/step - loss: 0.4745 - acc: 0.8269\n",
      "13/13 [==============================] - 30s 2s/step - loss: 0.2030 - acc: 0.9253 - val_loss: 0.4745 - val_acc: 0.8269\n",
      "Epoch 17/30\n",
      "4/4 [==============================] - 3s 844ms/step - loss: 0.4613 - acc: 0.8275\n",
      "13/13 [==============================] - 30s 2s/step - loss: 0.1997 - acc: 0.9234 - val_loss: 0.4613 - val_acc: 0.8275\n",
      "Epoch 18/30\n",
      "4/4 [==============================] - 3s 841ms/step - loss: 0.3957 - acc: 0.8413\n",
      "13/13 [==============================] - 30s 2s/step - loss: 0.1979 - acc: 0.9253 - val_loss: 0.3957 - val_acc: 0.8413\n",
      "Epoch 19/30\n",
      "4/4 [==============================] - 3s 863ms/step - loss: 0.4035 - acc: 0.8430\n",
      "13/13 [==============================] - 30s 2s/step - loss: 0.1963 - acc: 0.9218 - val_loss: 0.4035 - val_acc: 0.8430\n",
      "Epoch 20/30\n",
      "4/4 [==============================] - 3s 834ms/step - loss: 0.3739 - acc: 0.8418\n",
      "13/13 [==============================] - 30s 2s/step - loss: 0.1910 - acc: 0.9255 - val_loss: 0.3739 - val_acc: 0.8418\n",
      "Epoch 21/30\n",
      "4/4 [==============================] - 3s 852ms/step - loss: 0.4086 - acc: 0.8453\n",
      "13/13 [==============================] - 30s 2s/step - loss: 0.1928 - acc: 0.9306 - val_loss: 0.4086 - val_acc: 0.8453\n",
      "Epoch 22/30\n",
      "4/4 [==============================] - 3s 835ms/step - loss: 0.4173 - acc: 0.8464\n",
      "13/13 [==============================] - 30s 2s/step - loss: 0.1888 - acc: 0.9268 - val_loss: 0.4173 - val_acc: 0.8464\n",
      "Epoch 23/30\n",
      "4/4 [==============================] - 3s 839ms/step - loss: 0.4077 - acc: 0.8470\n",
      "13/13 [==============================] - 30s 2s/step - loss: 0.1867 - acc: 0.9299 - val_loss: 0.4077 - val_acc: 0.8470\n",
      "Epoch 24/30\n",
      "4/4 [==============================] - 3s 838ms/step - loss: 0.3767 - acc: 0.8539\n",
      "13/13 [==============================] - 30s 2s/step - loss: 0.1880 - acc: 0.9307 - val_loss: 0.3767 - val_acc: 0.8539\n",
      "Epoch 25/30\n",
      "4/4 [==============================] - 3s 834ms/step - loss: 0.3727 - acc: 0.8544\n",
      "13/13 [==============================] - 30s 2s/step - loss: 0.1821 - acc: 0.9336 - val_loss: 0.3727 - val_acc: 0.8544\n",
      "Epoch 26/30\n",
      "4/4 [==============================] - 3s 833ms/step - loss: 0.4098 - acc: 0.8470\n",
      "13/13 [==============================] - 30s 2s/step - loss: 0.1791 - acc: 0.9326 - val_loss: 0.4098 - val_acc: 0.8470\n",
      "Epoch 27/30\n",
      "4/4 [==============================] - 3s 835ms/step - loss: 0.3991 - acc: 0.8453\n",
      "13/13 [==============================] - 30s 2s/step - loss: 0.1820 - acc: 0.9295 - val_loss: 0.3991 - val_acc: 0.8453\n",
      "Epoch 28/30\n",
      "4/4 [==============================] - 3s 840ms/step - loss: 0.4077 - acc: 0.8481\n",
      "13/13 [==============================] - 30s 2s/step - loss: 0.1781 - acc: 0.9312 - val_loss: 0.4077 - val_acc: 0.8481\n",
      "Epoch 29/30\n",
      "4/4 [==============================] - 3s 849ms/step - loss: 0.3912 - acc: 0.8481\n",
      "13/13 [==============================] - 30s 2s/step - loss: 0.1735 - acc: 0.9349 - val_loss: 0.3912 - val_acc: 0.8481\n",
      "Epoch 30/30\n",
      "4/4 [==============================] - 3s 844ms/step - loss: 0.3979 - acc: 0.8470\n",
      "13/13 [==============================] - 30s 2s/step - loss: 0.1730 - acc: 0.9371 - val_loss: 0.3979 - val_acc: 0.8470\n"
     ]
    }
   ],
   "source": [
    "history = model.fit_generator(\n",
    "    train_generator,\n",
    "    epochs = 30,\n",
    "    steps_per_epoch = 20,\n",
    "    validation_data = val_generator)"
   ]
  },
  {
   "cell_type": "code",
   "execution_count": 176,
   "metadata": {},
   "outputs": [
    {
     "data": {
      "image/png": "[encoded data removed]",
      "text/plain": [
       "<matplotlib.figure.Figure at 0x7f3cafc7b8d0>"
      ]
     },
     "metadata": {},
     "output_type": "display_data"
    }
   ],
   "source": [
    "# Plot training & validation accuracy values\n",
    "plt.plot(history.history['acc'])\n",
    "plt.plot(history.history['val_acc'])\n",
    "plt.title('Model accuracy')\n",
    "plt.ylabel('Accuracy')\n",
    "plt.xlabel('Epoch')\n",
    "plt.legend(['Train', 'Test'], loc='upper left')\n",
    "plt.show()"
   ]
  },
  {
   "cell_type": "code",
   "execution_count": 177,
   "metadata": {},
   "outputs": [
    {
     "data": {
      "image/png": "[encoded data removed]",
      "text/plain": [
       "<matplotlib.figure.Figure at 0x7f3cafbe0b70>"
      ]
     },
     "metadata": {},
     "output_type": "display_data"
    }
   ],
   "source": [
    "# Plot training & validation loss values\n",
    "plt.plot(history.history['loss'])\n",
    "plt.plot(history.history['val_loss'])\n",
    "plt.title('Model loss')\n",
    "plt.ylabel('Loss')\n",
    "plt.xlabel('Epoch')\n",
    "plt.legend(['Train', 'Test'], loc='upper left')\n",
    "plt.show()"
   ]
  },
  {
   "cell_type": "code",
   "execution_count": 178,
   "metadata": {},
   "outputs": [
    {
     "data": {
      "text/plain": [
       "(array([751., 174.,  94.,  81.,  63.,  63.,  70.,  75., 121., 253.]),\n",
       " array([1.69575214e-05, 9.98339325e-02, 1.99650908e-01, 2.99467883e-01,\n",
       "        3.99284858e-01, 4.99101833e-01, 5.98918808e-01, 6.98735783e-01,\n",
       "        7.98552758e-01, 8.98369732e-01, 9.98186707e-01]),\n",
       " <a list of 10 Patch objects>)"
      ]
     },
     "execution_count": 178,
     "metadata": {},
     "output_type": "execute_result"
    },
    {
     "data": {
      "image/png": "[encoded data removed]",
      "text/plain": [
       "<matplotlib.figure.Figure at 0x7f3cafc11048>"
      ]
     },
     "metadata": {},
     "output_type": "display_data"
    }
   ],
   "source": [
    "Y_pred = model.predict_generator(val_generator, num_of_val_samples // BATCH_SIZE + 1)\n",
    "plt.hist(Y_pred)"
   ]
  },
  {
   "cell_type": "code",
   "execution_count": 179,
   "metadata": {},
   "outputs": [
    {
     "data": {
      "text/plain": [
       "{'cancer': 0, 'non-cancer': 1}"
      ]
     },
     "execution_count": 179,
     "metadata": {},
     "output_type": "execute_result"
    }
   ],
   "source": [
    "val_generator.class_indices"
   ]
  },
  {
   "cell_type": "code",
   "execution_count": 180,
   "metadata": {},
   "outputs": [],
   "source": [
    "y_pred = np.round(Y_pred)"
   ]
  },
  {
   "cell_type": "code",
   "execution_count": 181,
   "metadata": {},
   "outputs": [
    {
     "data": {
      "text/plain": [
       "(array([0., 1.], dtype=float32), array([1164,  581]))"
      ]
     },
     "execution_count": 181,
     "metadata": {},
     "output_type": "execute_result"
    }
   ],
   "source": [
    "np.unique(y_pred, return_counts = True)"
   ]
  },
  {
   "cell_type": "code",
   "execution_count": 182,
   "metadata": {},
   "outputs": [
    {
     "data": {
      "text/plain": [
       "array([[959,  62],\n",
       "       [205, 519]])"
      ]
     },
     "execution_count": 182,
     "metadata": {},
     "output_type": "execute_result"
    }
   ],
   "source": [
    "cm = confusion_matrix(val_generator.classes, y_pred)\n",
    "cm"
   ]
  },
  {
   "cell_type": "code",
   "execution_count": 183,
   "metadata": {},
   "outputs": [],
   "source": [
    "def plot_confusion_matrix(cm, classes=None):\n",
    "    #Normalise Confusion Matrix by dividing each value by the sum of that row\n",
    "    cm = cm.astype('float')/cm.sum(axis = 1)[:, np.newaxis]\n",
    "    print(cm)\n",
    "    #Make DataFrame from Confusion Matrix and classes\n",
    "    cm_df = pd.DataFrame(cm, index = classes, columns = classes)\n",
    "    #Display Confusion Matrix \n",
    "    plt.figure(figsize = (4,4), dpi = 300)\n",
    "    cm_plot = sns.heatmap(cm_df, vmin = 0, vmax = 1, annot = True, fmt = '.2f', cmap = 'Blues', square = True)\n",
    "    plt.title('Confusion Matrix', fontsize = 12)\n",
    "    #Display axes labels\n",
    "    plt.ylabel('True label', fontsize = 12)\n",
    "    plt.xlabel('Predicted label', fontsize = 12)\n",
    "    plt.savefig('./age_confusion_matrix_combine.pdf')\n",
    "    plt.tight_layout()\n",
    "    return cm_plot"
   ]
  },
  {
   "cell_type": "code",
   "execution_count": 184,
   "metadata": {},
   "outputs": [
    {
     "name": "stdout",
     "output_type": "stream",
     "text": [
      "[[0.93927522 0.06072478]\n",
      " [0.28314917 0.71685083]]\n"
     ]
    },
    {
     "data": {
      "text/plain": [
       "<matplotlib.axes._subplots.AxesSubplot at 0x7f3cafb66358>"
      ]
     },
     "execution_count": 184,
     "metadata": {},
     "output_type": "execute_result"
    },
    {
     "data": {
      "image/png": "[encoded data removed]",
      "text/plain": [
       "<matplotlib.figure.Figure at 0x7f3cafb52278>"
      ]
     },
     "metadata": {},
     "output_type": "display_data"
    }
   ],
   "source": [
    "plot_confusion_matrix(cm)"
   ]
  },
  {
   "cell_type": "code",
   "execution_count": null,
   "metadata": {},
   "outputs": [],
   "source": []
  }
 ],
 "metadata": {
  "kernelspec": {
   "display_name": "Python 3",
   "language": "python",
   "name": "python3"
  },
  "language_info": {
   "codemirror_mode": {
    "name": "ipython",
    "version": 3
   },
   "file_extension": ".py",
   "mimetype": "text/x-python",
   "name": "python",
   "nbconvert_exporter": "python",
   "pygments_lexer": "ipython3",
   "version": "3.6.4"
  }
 },
 "nbformat": 4,
 "nbformat_minor": 2
}
