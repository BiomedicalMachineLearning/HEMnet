{
 "cells": [
  {
   "cell_type": "code",
   "execution_count": 124,
   "metadata": {},
   "outputs": [],
   "source": [
    "from sklearn.preprocessing import LabelEncoder\n",
    "from keras.applications import Xception\n",
    "from keras.applications import imagenet_utils\n",
    "from keras.preprocessing.image import img_to_array\n",
    "from keras.preprocessing.image import load_img\n",
    "from keras.layers import GlobalAveragePooling2D\n",
    "from keras.models import Model\n",
    "import numpy as np\n",
    "import os\n",
    "import pandas as pd\n",
    "from pathlib import Path\n",
    "import pickle\n",
    "import random"
   ]
  },
  {
   "cell_type": "code",
   "execution_count": 128,
   "metadata": {},
   "outputs": [],
   "source": [
    "#Input Parameters\n",
    "TILE_PATH = Path('/gpfs1/scratch/90days/s4436005/img_reg/train_dataset_10x_02_12_19/tiles_10x')\n",
    "CANCER_PATH = TILE_PATH.joinpath('cancer')\n",
    "NON_CANCER_PATH = TILE_PATH.joinpath('non-cancer')\n",
    "BATCH_SIZE = 256\n",
    "\n",
    "#Output Parameters\n",
    "OUTPUT_PATH = Path('/gpfs1/scratch/90days/s4436005/img_reg/train_dataset_10x_02_12_19/features')"
   ]
  },
  {
   "cell_type": "code",
   "execution_count": 129,
   "metadata": {},
   "outputs": [],
   "source": [
    "cancer_tile_paths = [path for path in CANCER_PATH.glob('*.jpeg')]\n",
    "non_cancer_tile_paths = [path for path in NON_CANCER_PATH.glob('*.jpeg')]\n",
    "all_tile_paths = cancer_tile_paths + non_cancer_tile_paths\n",
    "random.shuffle(all_tile_paths)"
   ]
  },
  {
   "cell_type": "code",
   "execution_count": 125,
   "metadata": {},
   "outputs": [],
   "source": [
    "xception_base = Xception(weights='imagenet', include_top=False)\n",
    "x = xception_base.output\n",
    "features = GlobalAveragePooling2D()(x)\n",
    "model = Model(inputs=xception_base.input, outputs=features)"
   ]
  },
  {
   "cell_type": "code",
   "execution_count": 132,
   "metadata": {},
   "outputs": [
    {
     "name": "stdout",
     "output_type": "stream",
     "text": [
      "65\n"
     ]
    }
   ],
   "source": [
    "total_batches = int(np.ceil(len(all_tile_paths)/BATCH_SIZE))\n",
    "print(total_batches)\n",
    "features_df = pd.DataFrame()"
   ]
  },
  {
   "cell_type": "code",
   "execution_count": null,
   "metadata": {},
   "outputs": [
    {
     "name": "stdout",
     "output_type": "stream",
     "text": [
      "processing batch 1/65\n",
      "processing batch 2/65\n",
      "processing batch 3/65\n",
      "processing batch 4/65\n",
      "processing batch 5/65\n",
      "processing batch 6/65\n",
      "processing batch 7/65\n",
      "processing batch 8/65\n",
      "processing batch 9/65\n",
      "processing batch 10/65\n",
      "processing batch 11/65\n",
      "processing batch 12/65\n",
      "processing batch 13/65\n",
      "processing batch 14/65\n",
      "processing batch 15/65\n",
      "processing batch 16/65\n",
      "processing batch 17/65\n",
      "processing batch 18/65\n",
      "processing batch 19/65\n"
     ]
    }
   ],
   "source": [
    "for (batch, i) in enumerate(range(0, len(all_tile_paths), BATCH_SIZE)):\n",
    "    print('processing batch {0}/{1}'.format(batch + 1, total_batches))\n",
    "    batch_paths = all_tile_paths[i:i + BATCH_SIZE]\n",
    "    batch_labels = [path.parent.name for path in batch_paths]\n",
    "    batch_imgs = []\n",
    "    for path in batch_paths:\n",
    "        img = load_img(path, target_size = (299, 299))\n",
    "        img = img_to_array(img)\n",
    "        \n",
    "        img = np.expand_dims(img, axis = 0)\n",
    "        img = imagenet_utils.preprocess_input(img)\n",
    "        batch_imgs.append(img)\n",
    "    batch_imgs = np.vstack(batch_imgs)\n",
    "    features = model.predict(batch_imgs, batch_size = BATCH_SIZE)\n",
    "    features = features.reshape((features.shape[0]), 2048)\n",
    "    batch_df = pd.DataFrame(features)\n",
    "    batch_df['label'] = batch_labels\n",
    "    features_df = pd.concat([features_df, batch_df], axis = 'index')"
   ]
  },
  {
   "cell_type": "code",
   "execution_count": 113,
   "metadata": {},
   "outputs": [],
   "source": [
    "features_df.reset_index(drop = True, inplace = True)"
   ]
  },
  {
   "cell_type": "code",
   "execution_count": null,
   "metadata": {},
   "outputs": [],
   "source": [
    "features_df.to_csv(OUTPUT.joinpath('Xception_features.csv'))"
   ]
  }
 ],
 "metadata": {
  "kernelspec": {
   "display_name": "Python 3",
   "language": "python",
   "name": "python3"
  },
  "language_info": {
   "codemirror_mode": {
    "name": "ipython",
    "version": 3
   },
   "file_extension": ".py",
   "mimetype": "text/x-python",
   "name": "python",
   "nbconvert_exporter": "python",
   "pygments_lexer": "ipython3",
   "version": "3.6.7"
  }
 },
 "nbformat": 4,
 "nbformat_minor": 2
}
