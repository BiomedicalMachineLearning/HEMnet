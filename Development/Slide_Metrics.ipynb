{
 "cells": [
  {
   "cell_type": "code",
   "execution_count": 61,
   "metadata": {},
   "outputs": [],
   "source": [
    "import cv2 as cv\n",
    "import importlib\n",
    "import io\n",
    "import matplotlib.pyplot as plt\n",
    "import numpy as np\n",
    "import os\n",
    "import openslide\n",
    "from openslide import open_slide\n",
    "from pathlib import Path\n",
    "import pandas as pd\n",
    "from PIL import Image, ImageOps, ImageChops, ImageDraw\n",
    "\n",
    "import seaborn as sns\n",
    "from skimage.color import rgb2hed\n",
    "from skimage.filters import threshold_otsu\n",
    "from skimage.morphology import remove_small_holes\n",
    "import staintools\n",
    "from staintools import stain_normalizer, LuminosityStandardizer\n",
    "from staintools.preprocessing.input_validation import is_uint8_image\n",
    "import sys"
   ]
  },
  {
   "cell_type": "code",
   "execution_count": 2,
   "metadata": {},
   "outputs": [],
   "source": [
    "# Import HEMnet package\n",
    "BASE_DIR = Path().resolve().parent\n",
    "HEMNET_DIR = BASE_DIR.joinpath('HEMnet')\n",
    "sys.path.append(str(HEMNET_DIR))\n",
    "\n",
    "from slide import *\n",
    "from utils import *"
   ]
  },
  {
   "cell_type": "code",
   "execution_count": 3,
   "metadata": {},
   "outputs": [
    {
     "data": {
      "text/plain": [
       "['1820_N_10545A_2_HandE.svs',\n",
       " '1820_N_10545A_4_TP53.svs',\n",
       " '1820_T_105452F_2_HandE.svs',\n",
       " '1820_T_105452F_4_TP53.svs',\n",
       " '2065_N_12752A_2_HandE.svs',\n",
       " '2065_N_12752A_4_TP53.svs',\n",
       " '2065_T_12756A_2_HandE.svs',\n",
       " '2065_T_12756A_4_TP53.svs',\n",
       " '2112_N_12341B_2_HandE.svs',\n",
       " '2112_N_12341B_4_TP53.svs',\n",
       " '2112_T_12335F_2_HandE.svs',\n",
       " '2112_T_12335F_4_TP53.svs',\n",
       " '2148_N_11397A_2_HandE.svs',\n",
       " '2148_N_11397A_4_TP53.svs',\n",
       " '2148_T_11393A_2_HandE.svs',\n",
       " '2148_T_11393A_4_TP53.svs',\n",
       " '2171_N_11521A_2_HandE.svs',\n",
       " '2171_N_11521A_4_TP53.svs',\n",
       " '2171_T_11524A_2_HandE.svs',\n",
       " '2171_T_11524A_4_TP53.svs']"
      ]
     },
     "execution_count": 3,
     "metadata": {},
     "output_type": "execute_result"
    }
   ],
   "source": [
    "# User Input parameters\n",
    "#SLIDES_PATH = Path('/gpfs1/scratch/90days/s4436005/Slides/gold_standards')\n",
    "SLIDES_PATH = Path('/gpfs1/scratch/90days/s4436005')\n",
    "#OUTPUT_PATH = Path('/gpfs1/scratch/90days/s4436005/img_reg/gold_standards/1957_T')\n",
    "OUTPUT_PATH = Path('/gpfs1/scratch/90days/s4436005/img_reg/train_dataset_10x_20_03_20_strict_iternorm')\n",
    "#OUTPUT_PATH = Path('/gpfs1/scratch/90days/s4436005/img_reg/train_dataset_10x_11_12_19_strict')\n",
    "TEMPLATE_SLIDE_PATH = Path('/gpfs1/scratch/90days/s4436005/2171_T_11524A_2_HandE.svs')\n",
    "\n",
    "ALIGNMENT_MAG = 2\n",
    "TILE_MAG = 10\n",
    "VERBOSE = True\n",
    "CANCER_THRESH = 0.39\n",
    "NON_CANCER_THRESH = 0.40\n",
    "NORMALISER_METHOD = \"vahadane\"\n",
    "\n",
    "#Verbose functions\n",
    "if VERBOSE:\n",
    "    verbose_print = lambda *args: print(*args)\n",
    "    verbose_save_img = lambda img, path, img_type: img.save(path, img_type)\n",
    "    verbose_save_fig = lambda fig, path, dpi=300: fig.savefig(path, dpi=dpi)\n",
    "else:\n",
    "    verbose_print = lambda *args: None\n",
    "    verbose_save_img = lambda *args: None\n",
    "    verbose_save_fig = lambda *args: None\n",
    "\n",
    "# Find Slides\n",
    "slides = []\n",
    "for slide in SLIDES_PATH.glob('*.svs'):\n",
    "    name = slide.name\n",
    "    slides.append(name)\n",
    "slides.sort()\n",
    "slides"
   ]
  },
  {
   "cell_type": "code",
   "execution_count": 4,
   "metadata": {},
   "outputs": [
    {
     "name": "stdout",
     "output_type": "stream",
     "text": [
      "Found 10 pairs of slides\n",
      "1. 1820_N_10545A_4_TP53.svs|1820_N_10545A_2_HandE.svs\n",
      "2. 1820_T_105452F_4_TP53.svs|1820_T_105452F_2_HandE.svs\n",
      "3. 2065_N_12752A_4_TP53.svs|2065_N_12752A_2_HandE.svs\n",
      "4. 2065_T_12756A_4_TP53.svs|2065_T_12756A_2_HandE.svs\n",
      "5. 2112_N_12341B_4_TP53.svs|2112_N_12341B_2_HandE.svs\n",
      "6. 2112_T_12335F_4_TP53.svs|2112_T_12335F_2_HandE.svs\n",
      "7. 2148_N_11397A_4_TP53.svs|2148_N_11397A_2_HandE.svs\n",
      "8. 2148_T_11393A_4_TP53.svs|2148_T_11393A_2_HandE.svs\n",
      "9. 2171_N_11521A_4_TP53.svs|2171_N_11521A_2_HandE.svs\n",
      "10. 2171_T_11524A_4_TP53.svs|2171_T_11524A_2_HandE.svs\n"
     ]
    }
   ],
   "source": [
    "TP53_slides = [slide for slide in slides if 'TP53' in slide]\n",
    "HE_slides = [slide for slide in slides if 'HandE' in slide]\n",
    "Paired_slides = list(zip(TP53_slides, HE_slides))\n",
    "print('Found {0} pairs of slides'.format(len(Paired_slides)))\n",
    "for i, pair in enumerate(Paired_slides):\n",
    "    tp53, he = pair\n",
    "    verbose_print('{0}. {1}|{2}'.format(i + 1, tp53, he))"
   ]
  },
  {
   "cell_type": "code",
   "execution_count": 19,
   "metadata": {},
   "outputs": [],
   "source": [
    "metrics_df = pd.DataFrame((slides), columns = [\"Slide_Name\"])"
   ]
  },
  {
   "cell_type": "code",
   "execution_count": 20,
   "metadata": {},
   "outputs": [
    {
     "data": {
      "text/html": [
       "<div>\n",
       "<style scoped>\n",
       "    .dataframe tbody tr th:only-of-type {\n",
       "        vertical-align: middle;\n",
       "    }\n",
       "\n",
       "    .dataframe tbody tr th {\n",
       "        vertical-align: top;\n",
       "    }\n",
       "\n",
       "    .dataframe thead th {\n",
       "        text-align: right;\n",
       "    }\n",
       "</style>\n",
       "<table border=\"1\" class=\"dataframe\">\n",
       "  <thead>\n",
       "    <tr style=\"text-align: right;\">\n",
       "      <th></th>\n",
       "      <th>Slide_Name</th>\n",
       "    </tr>\n",
       "  </thead>\n",
       "  <tbody>\n",
       "    <tr>\n",
       "      <th>0</th>\n",
       "      <td>1820_N_10545A_2_HandE.svs</td>\n",
       "    </tr>\n",
       "    <tr>\n",
       "      <th>1</th>\n",
       "      <td>1820_N_10545A_4_TP53.svs</td>\n",
       "    </tr>\n",
       "    <tr>\n",
       "      <th>2</th>\n",
       "      <td>1820_T_105452F_2_HandE.svs</td>\n",
       "    </tr>\n",
       "    <tr>\n",
       "      <th>3</th>\n",
       "      <td>1820_T_105452F_4_TP53.svs</td>\n",
       "    </tr>\n",
       "    <tr>\n",
       "      <th>4</th>\n",
       "      <td>2065_N_12752A_2_HandE.svs</td>\n",
       "    </tr>\n",
       "    <tr>\n",
       "      <th>5</th>\n",
       "      <td>2065_N_12752A_4_TP53.svs</td>\n",
       "    </tr>\n",
       "    <tr>\n",
       "      <th>6</th>\n",
       "      <td>2065_T_12756A_2_HandE.svs</td>\n",
       "    </tr>\n",
       "    <tr>\n",
       "      <th>7</th>\n",
       "      <td>2065_T_12756A_4_TP53.svs</td>\n",
       "    </tr>\n",
       "    <tr>\n",
       "      <th>8</th>\n",
       "      <td>2112_N_12341B_2_HandE.svs</td>\n",
       "    </tr>\n",
       "    <tr>\n",
       "      <th>9</th>\n",
       "      <td>2112_N_12341B_4_TP53.svs</td>\n",
       "    </tr>\n",
       "    <tr>\n",
       "      <th>10</th>\n",
       "      <td>2112_T_12335F_2_HandE.svs</td>\n",
       "    </tr>\n",
       "    <tr>\n",
       "      <th>11</th>\n",
       "      <td>2112_T_12335F_4_TP53.svs</td>\n",
       "    </tr>\n",
       "    <tr>\n",
       "      <th>12</th>\n",
       "      <td>2148_N_11397A_2_HandE.svs</td>\n",
       "    </tr>\n",
       "    <tr>\n",
       "      <th>13</th>\n",
       "      <td>2148_N_11397A_4_TP53.svs</td>\n",
       "    </tr>\n",
       "    <tr>\n",
       "      <th>14</th>\n",
       "      <td>2148_T_11393A_2_HandE.svs</td>\n",
       "    </tr>\n",
       "    <tr>\n",
       "      <th>15</th>\n",
       "      <td>2148_T_11393A_4_TP53.svs</td>\n",
       "    </tr>\n",
       "    <tr>\n",
       "      <th>16</th>\n",
       "      <td>2171_N_11521A_2_HandE.svs</td>\n",
       "    </tr>\n",
       "    <tr>\n",
       "      <th>17</th>\n",
       "      <td>2171_N_11521A_4_TP53.svs</td>\n",
       "    </tr>\n",
       "    <tr>\n",
       "      <th>18</th>\n",
       "      <td>2171_T_11524A_2_HandE.svs</td>\n",
       "    </tr>\n",
       "    <tr>\n",
       "      <th>19</th>\n",
       "      <td>2171_T_11524A_4_TP53.svs</td>\n",
       "    </tr>\n",
       "  </tbody>\n",
       "</table>\n",
       "</div>"
      ],
      "text/plain": [
       "                    Slide_Name\n",
       "0    1820_N_10545A_2_HandE.svs\n",
       "1     1820_N_10545A_4_TP53.svs\n",
       "2   1820_T_105452F_2_HandE.svs\n",
       "3    1820_T_105452F_4_TP53.svs\n",
       "4    2065_N_12752A_2_HandE.svs\n",
       "5     2065_N_12752A_4_TP53.svs\n",
       "6    2065_T_12756A_2_HandE.svs\n",
       "7     2065_T_12756A_4_TP53.svs\n",
       "8    2112_N_12341B_2_HandE.svs\n",
       "9     2112_N_12341B_4_TP53.svs\n",
       "10   2112_T_12335F_2_HandE.svs\n",
       "11    2112_T_12335F_4_TP53.svs\n",
       "12   2148_N_11397A_2_HandE.svs\n",
       "13    2148_N_11397A_4_TP53.svs\n",
       "14   2148_T_11393A_2_HandE.svs\n",
       "15    2148_T_11393A_4_TP53.svs\n",
       "16   2171_N_11521A_2_HandE.svs\n",
       "17    2171_N_11521A_4_TP53.svs\n",
       "18   2171_T_11524A_2_HandE.svs\n",
       "19    2171_T_11524A_4_TP53.svs"
      ]
     },
     "execution_count": 20,
     "metadata": {},
     "output_type": "execute_result"
    }
   ],
   "source": [
    "metrics_df"
   ]
  },
  {
   "cell_type": "code",
   "execution_count": 97,
   "metadata": {},
   "outputs": [
    {
     "name": "stdout",
     "output_type": "stream",
     "text": [
      "Processing Slide: 2065_N_12752A_2_HandE\n"
     ]
    }
   ],
   "source": [
    "SLIDE_NUM = 4\n",
    "PREFIX = slides[SLIDE_NUM][:-4]\n",
    "verbose_print('Processing Slide: {0}'.format(PREFIX))\n",
    "slide_name = slides[SLIDE_NUM]\n",
    "slide = open_slide(str(SLIDES_PATH.joinpath(slide_name)))"
   ]
  },
  {
   "cell_type": "code",
   "execution_count": 7,
   "metadata": {},
   "outputs": [],
   "source": [
    "# #Load Slides\n",
    "# he = read_slide_at_mag(he_slide, ALIGNMENT_MAG)\n",
    "# tp53 = read_slide_at_mag(tp53_slide, ALIGNMENT_MAG)"
   ]
  },
  {
   "cell_type": "code",
   "execution_count": 98,
   "metadata": {},
   "outputs": [
    {
     "data": {
      "text/plain": [
       "(1.0, 4.0001719448190425, 16.002249086207662)"
      ]
     },
     "execution_count": 98,
     "metadata": {},
     "output_type": "execute_result"
    }
   ],
   "source": [
    "slide.level_downsamples"
   ]
  },
  {
   "cell_type": "code",
   "execution_count": 99,
   "metadata": {},
   "outputs": [
    {
     "data": {
      "text/plain": [
       "((53783, 33125), (13445, 8281), (3361, 2070))"
      ]
     },
     "execution_count": 99,
     "metadata": {},
     "output_type": "execute_result"
    }
   ],
   "source": [
    "slide.level_dimensions"
   ]
  },
  {
   "cell_type": "code",
   "execution_count": 58,
   "metadata": {},
   "outputs": [
    {
     "name": "stdout",
     "output_type": "stream",
     "text": [
      "Processing Slide: 1820_N_10545A_2_HandE\n",
      "Processing Slide: 1820_N_10545A_4_TP53\n",
      "Processing Slide: 1820_T_105452F_2_HandE\n",
      "Processing Slide: 1820_T_105452F_4_TP53\n",
      "Processing Slide: 2065_N_12752A_2_HandE\n",
      "Processing Slide: 2065_N_12752A_4_TP53\n",
      "Processing Slide: 2065_T_12756A_2_HandE\n",
      "Processing Slide: 2065_T_12756A_4_TP53\n",
      "Processing Slide: 2112_N_12341B_2_HandE\n",
      "Processing Slide: 2112_N_12341B_4_TP53\n",
      "Processing Slide: 2112_T_12335F_2_HandE\n",
      "Processing Slide: 2112_T_12335F_4_TP53\n",
      "Processing Slide: 2148_N_11397A_2_HandE\n",
      "Processing Slide: 2148_N_11397A_4_TP53\n",
      "Processing Slide: 2148_T_11393A_2_HandE\n",
      "Processing Slide: 2148_T_11393A_4_TP53\n",
      "Processing Slide: 2171_N_11521A_2_HandE\n",
      "Processing Slide: 2171_N_11521A_4_TP53\n",
      "Processing Slide: 2171_T_11524A_2_HandE\n",
      "Processing Slide: 2171_T_11524A_4_TP53\n"
     ]
    }
   ],
   "source": [
    "for i in range(20):\n",
    "    SLIDE_NUM = i\n",
    "    PREFIX = slides[SLIDE_NUM][:-4]\n",
    "    verbose_print('Processing Slide: {0}'.format(PREFIX))\n",
    "    slide_name = slides[SLIDE_NUM]\n",
    "    slide = open_slide(str(SLIDES_PATH.joinpath(slide_name)))\n",
    "    #Pixel Area\n",
    "    slide_px_area = slide.dimensions[0]*slide.dimensions[1]\n",
    "    slide_px_area\n",
    "    metrics_df.loc[SLIDE_NUM, \"Pixel_Area\"] = slide_px_area\n",
    "    #MPP is microns-per-pixel\n",
    "    slide_mpp = float(slide.properties['aperio.MPP'])\n",
    "    metrics_df.loc[SLIDE_NUM, \"MPP\"] = slide_mpp\n",
    "    #Slide Area in square mm\n",
    "    slide_area_mm = slide_px_area*(slide_mpp*10**-3)**2\n",
    "    metrics_df.loc[SLIDE_NUM, \"Area_mm\"] = slide_area_mm"
   ]
  },
  {
   "cell_type": "code",
   "execution_count": 59,
   "metadata": {},
   "outputs": [
    {
     "data": {
      "text/html": [
       "<div>\n",
       "<style scoped>\n",
       "    .dataframe tbody tr th:only-of-type {\n",
       "        vertical-align: middle;\n",
       "    }\n",
       "\n",
       "    .dataframe tbody tr th {\n",
       "        vertical-align: top;\n",
       "    }\n",
       "\n",
       "    .dataframe thead th {\n",
       "        text-align: right;\n",
       "    }\n",
       "</style>\n",
       "<table border=\"1\" class=\"dataframe\">\n",
       "  <thead>\n",
       "    <tr style=\"text-align: right;\">\n",
       "      <th></th>\n",
       "      <th>Slide_Name</th>\n",
       "      <th>Pixel_Area</th>\n",
       "      <th>MPP</th>\n",
       "      <th>Area_mm</th>\n",
       "    </tr>\n",
       "  </thead>\n",
       "  <tbody>\n",
       "    <tr>\n",
       "      <th>0</th>\n",
       "      <td>1820_N_10545A_2_HandE.svs</td>\n",
       "      <td>2.246171e+09</td>\n",
       "      <td>0.4941</td>\n",
       "      <td>548.368481</td>\n",
       "    </tr>\n",
       "    <tr>\n",
       "      <th>1</th>\n",
       "      <td>1820_N_10545A_4_TP53.svs</td>\n",
       "      <td>2.245709e+09</td>\n",
       "      <td>0.4941</td>\n",
       "      <td>548.255780</td>\n",
       "    </tr>\n",
       "    <tr>\n",
       "      <th>2</th>\n",
       "      <td>1820_T_105452F_2_HandE.svs</td>\n",
       "      <td>1.703325e+09</td>\n",
       "      <td>0.4941</td>\n",
       "      <td>415.840924</td>\n",
       "    </tr>\n",
       "    <tr>\n",
       "      <th>3</th>\n",
       "      <td>1820_T_105452F_4_TP53.svs</td>\n",
       "      <td>2.039530e+09</td>\n",
       "      <td>0.4941</td>\n",
       "      <td>497.920167</td>\n",
       "    </tr>\n",
       "    <tr>\n",
       "      <th>4</th>\n",
       "      <td>2065_N_12752A_2_HandE.svs</td>\n",
       "      <td>1.781562e+09</td>\n",
       "      <td>0.4941</td>\n",
       "      <td>434.941270</td>\n",
       "    </tr>\n",
       "    <tr>\n",
       "      <th>5</th>\n",
       "      <td>2065_N_12752A_4_TP53.svs</td>\n",
       "      <td>1.678824e+09</td>\n",
       "      <td>0.4941</td>\n",
       "      <td>409.859351</td>\n",
       "    </tr>\n",
       "    <tr>\n",
       "      <th>6</th>\n",
       "      <td>2065_T_12756A_2_HandE.svs</td>\n",
       "      <td>1.547148e+09</td>\n",
       "      <td>0.4941</td>\n",
       "      <td>377.712577</td>\n",
       "    </tr>\n",
       "    <tr>\n",
       "      <th>7</th>\n",
       "      <td>2065_T_12756A_4_TP53.svs</td>\n",
       "      <td>1.474512e+09</td>\n",
       "      <td>0.4941</td>\n",
       "      <td>359.979824</td>\n",
       "    </tr>\n",
       "    <tr>\n",
       "      <th>8</th>\n",
       "      <td>2112_N_12341B_2_HandE.svs</td>\n",
       "      <td>2.997868e+09</td>\n",
       "      <td>0.4941</td>\n",
       "      <td>731.883917</td>\n",
       "    </tr>\n",
       "    <tr>\n",
       "      <th>9</th>\n",
       "      <td>2112_N_12341B_4_TP53.svs</td>\n",
       "      <td>2.636985e+09</td>\n",
       "      <td>0.4941</td>\n",
       "      <td>643.779928</td>\n",
       "    </tr>\n",
       "    <tr>\n",
       "      <th>10</th>\n",
       "      <td>2112_T_12335F_2_HandE.svs</td>\n",
       "      <td>2.770016e+09</td>\n",
       "      <td>0.4941</td>\n",
       "      <td>676.257283</td>\n",
       "    </tr>\n",
       "    <tr>\n",
       "      <th>11</th>\n",
       "      <td>2112_T_12335F_4_TP53.svs</td>\n",
       "      <td>2.544694e+09</td>\n",
       "      <td>0.4941</td>\n",
       "      <td>621.248415</td>\n",
       "    </tr>\n",
       "    <tr>\n",
       "      <th>12</th>\n",
       "      <td>2148_N_11397A_2_HandE.svs</td>\n",
       "      <td>2.325523e+09</td>\n",
       "      <td>0.4941</td>\n",
       "      <td>567.741149</td>\n",
       "    </tr>\n",
       "    <tr>\n",
       "      <th>13</th>\n",
       "      <td>2148_N_11397A_4_TP53.svs</td>\n",
       "      <td>2.371562e+09</td>\n",
       "      <td>0.4941</td>\n",
       "      <td>578.980760</td>\n",
       "    </tr>\n",
       "    <tr>\n",
       "      <th>14</th>\n",
       "      <td>2148_T_11393A_2_HandE.svs</td>\n",
       "      <td>2.371717e+09</td>\n",
       "      <td>0.4941</td>\n",
       "      <td>579.018692</td>\n",
       "    </tr>\n",
       "    <tr>\n",
       "      <th>15</th>\n",
       "      <td>2148_T_11393A_4_TP53.svs</td>\n",
       "      <td>2.192883e+09</td>\n",
       "      <td>0.4941</td>\n",
       "      <td>535.359009</td>\n",
       "    </tr>\n",
       "    <tr>\n",
       "      <th>16</th>\n",
       "      <td>2171_N_11521A_2_HandE.svs</td>\n",
       "      <td>1.899931e+09</td>\n",
       "      <td>0.4941</td>\n",
       "      <td>463.839403</td>\n",
       "    </tr>\n",
       "    <tr>\n",
       "      <th>17</th>\n",
       "      <td>2171_N_11521A_4_TP53.svs</td>\n",
       "      <td>1.871405e+09</td>\n",
       "      <td>0.4941</td>\n",
       "      <td>456.875108</td>\n",
       "    </tr>\n",
       "    <tr>\n",
       "      <th>18</th>\n",
       "      <td>2171_T_11524A_2_HandE.svs</td>\n",
       "      <td>3.007573e+09</td>\n",
       "      <td>0.4941</td>\n",
       "      <td>734.253374</td>\n",
       "    </tr>\n",
       "    <tr>\n",
       "      <th>19</th>\n",
       "      <td>2171_T_11524A_4_TP53.svs</td>\n",
       "      <td>2.908942e+09</td>\n",
       "      <td>0.4941</td>\n",
       "      <td>710.174095</td>\n",
       "    </tr>\n",
       "  </tbody>\n",
       "</table>\n",
       "</div>"
      ],
      "text/plain": [
       "                    Slide_Name    Pixel_Area     MPP     Area_mm\n",
       "0    1820_N_10545A_2_HandE.svs  2.246171e+09  0.4941  548.368481\n",
       "1     1820_N_10545A_4_TP53.svs  2.245709e+09  0.4941  548.255780\n",
       "2   1820_T_105452F_2_HandE.svs  1.703325e+09  0.4941  415.840924\n",
       "3    1820_T_105452F_4_TP53.svs  2.039530e+09  0.4941  497.920167\n",
       "4    2065_N_12752A_2_HandE.svs  1.781562e+09  0.4941  434.941270\n",
       "5     2065_N_12752A_4_TP53.svs  1.678824e+09  0.4941  409.859351\n",
       "6    2065_T_12756A_2_HandE.svs  1.547148e+09  0.4941  377.712577\n",
       "7     2065_T_12756A_4_TP53.svs  1.474512e+09  0.4941  359.979824\n",
       "8    2112_N_12341B_2_HandE.svs  2.997868e+09  0.4941  731.883917\n",
       "9     2112_N_12341B_4_TP53.svs  2.636985e+09  0.4941  643.779928\n",
       "10   2112_T_12335F_2_HandE.svs  2.770016e+09  0.4941  676.257283\n",
       "11    2112_T_12335F_4_TP53.svs  2.544694e+09  0.4941  621.248415\n",
       "12   2148_N_11397A_2_HandE.svs  2.325523e+09  0.4941  567.741149\n",
       "13    2148_N_11397A_4_TP53.svs  2.371562e+09  0.4941  578.980760\n",
       "14   2148_T_11393A_2_HandE.svs  2.371717e+09  0.4941  579.018692\n",
       "15    2148_T_11393A_4_TP53.svs  2.192883e+09  0.4941  535.359009\n",
       "16   2171_N_11521A_2_HandE.svs  1.899931e+09  0.4941  463.839403\n",
       "17    2171_N_11521A_4_TP53.svs  1.871405e+09  0.4941  456.875108\n",
       "18   2171_T_11524A_2_HandE.svs  3.007573e+09  0.4941  734.253374\n",
       "19    2171_T_11524A_4_TP53.svs  2.908942e+09  0.4941  710.174095"
      ]
     },
     "execution_count": 59,
     "metadata": {},
     "output_type": "execute_result"
    }
   ],
   "source": [
    "metrics_df"
   ]
  },
  {
   "cell_type": "code",
   "execution_count": 60,
   "metadata": {},
   "outputs": [
    {
     "data": {
      "text/html": [
       "<div>\n",
       "<style scoped>\n",
       "    .dataframe tbody tr th:only-of-type {\n",
       "        vertical-align: middle;\n",
       "    }\n",
       "\n",
       "    .dataframe tbody tr th {\n",
       "        vertical-align: top;\n",
       "    }\n",
       "\n",
       "    .dataframe thead th {\n",
       "        text-align: right;\n",
       "    }\n",
       "</style>\n",
       "<table border=\"1\" class=\"dataframe\">\n",
       "  <thead>\n",
       "    <tr style=\"text-align: right;\">\n",
       "      <th></th>\n",
       "      <th>Pixel_Area</th>\n",
       "      <th>Area_mm</th>\n",
       "    </tr>\n",
       "  </thead>\n",
       "  <tbody>\n",
       "    <tr>\n",
       "      <th>count</th>\n",
       "      <td>2.000000e+01</td>\n",
       "      <td>20.000000</td>\n",
       "    </tr>\n",
       "    <tr>\n",
       "      <th>mean</th>\n",
       "      <td>2.230794e+09</td>\n",
       "      <td>544.614475</td>\n",
       "    </tr>\n",
       "    <tr>\n",
       "      <th>std</th>\n",
       "      <td>4.788008e+08</td>\n",
       "      <td>116.891947</td>\n",
       "    </tr>\n",
       "    <tr>\n",
       "      <th>min</th>\n",
       "      <td>1.474512e+09</td>\n",
       "      <td>359.979824</td>\n",
       "    </tr>\n",
       "    <tr>\n",
       "      <th>25%</th>\n",
       "      <td>1.848944e+09</td>\n",
       "      <td>451.391648</td>\n",
       "    </tr>\n",
       "    <tr>\n",
       "      <th>50%</th>\n",
       "      <td>2.245940e+09</td>\n",
       "      <td>548.312131</td>\n",
       "    </tr>\n",
       "    <tr>\n",
       "      <th>75%</th>\n",
       "      <td>2.567767e+09</td>\n",
       "      <td>626.881293</td>\n",
       "    </tr>\n",
       "    <tr>\n",
       "      <th>max</th>\n",
       "      <td>3.007573e+09</td>\n",
       "      <td>734.253374</td>\n",
       "    </tr>\n",
       "  </tbody>\n",
       "</table>\n",
       "</div>"
      ],
      "text/plain": [
       "         Pixel_Area     Area_mm\n",
       "count  2.000000e+01   20.000000\n",
       "mean   2.230794e+09  544.614475\n",
       "std    4.788008e+08  116.891947\n",
       "min    1.474512e+09  359.979824\n",
       "25%    1.848944e+09  451.391648\n",
       "50%    2.245940e+09  548.312131\n",
       "75%    2.567767e+09  626.881293\n",
       "max    3.007573e+09  734.253374"
      ]
     },
     "execution_count": 60,
     "metadata": {},
     "output_type": "execute_result"
    }
   ],
   "source": [
    "metrics_df.describe()"
   ]
  },
  {
   "cell_type": "code",
   "execution_count": 96,
   "metadata": {},
   "outputs": [
    {
     "data": {
      "image/png": "[encoded data removed]",
      "text/plain": [
       "<Figure size 720x720 with 2 Axes>"
      ]
     },
     "metadata": {},
     "output_type": "display_data"
    }
   ],
   "source": [
    "sns.set(style=\"whitegrid\")\n",
    "fig, (ax1, ax2) = plt.subplots(nrows = 1, ncols = 2, figsize = (10,10))\n",
    "sns.violinplot(y=metrics_df[\"Pixel_Area\"], ax = ax1)\n",
    "sns.violinplot(y= metrics_df[\"Area_mm\"], ax = ax2)\n",
    "ax1.tick_params(labelsize = 20)\n",
    "ax1.set_ylabel(\"Slide Pixel Area (px^2)\", fontsize = 20)\n",
    "ax2.tick_params(labelsize = 20)\n",
    "ax2.set_ylabel(\"Slide Area (mm^2)\", fontsize = 20)\n",
    "fig.tight_layout()\n",
    "fig.show()"
   ]
  },
  {
   "cell_type": "code",
   "execution_count": 9,
   "metadata": {},
   "outputs": [
    {
     "data": {
      "text/plain": [
       "<_PropertyMap {'aperio.AppMag': '20', 'aperio.DSR ID': 'PathAperio2', 'aperio.Date': '12/15/15', 'aperio.DisplayColor': '0', 'aperio.Exposure Scale': '0.000001', 'aperio.Exposure Time': '109', 'aperio.Filename': '53399', 'aperio.Filtered': '3', 'aperio.Focus Offset': '-0.000500', 'aperio.ICC Profile': 'ScanScope v1', 'aperio.ImageID': '53399', 'aperio.Left': '18.253540', 'aperio.LineAreaXOffset': '0.001923', 'aperio.LineAreaYOffset': '0.010204', 'aperio.LineCameraSkew': '0.000250', 'aperio.MPP': '0.4941', 'aperio.OriginalHeight': '44364', 'aperio.OriginalWidth': '69088', 'aperio.ScanScope ID': 'SS1605', 'aperio.StripeWidth': '2032', 'aperio.Time': '20:41:07', 'aperio.Time Zone': 'GMT-08:00', 'aperio.Top': '24.195429', 'aperio.User': 'c84dc6e7-3bcf-4374-bf32-cd66063ca41f', 'openslide.comment': 'Aperio Image Library v12.0.15 \\r\\n69088x44364 [0,100 67727x44264] (240x240) JPEG/RGB Q=70|AppMag = 20|StripeWidth = 2032|ScanScope ID = SS1605|Filename = 53399|Date = 12/15/15|Time = 20:41:07|Time Zone = GMT-08:00|User = c84dc6e7-3bcf-4374-bf32-cd66063ca41f|MPP = 0.4941|Left = 18.253540|Top = 24.195429|LineCameraSkew = 0.000250|LineAreaXOffset = 0.001923|LineAreaYOffset = 0.010204|Focus Offset = -0.000500|DSR ID = PathAperio2|ImageID = 53399|Exposure Time = 109|Exposure Scale = 0.000001|DisplayColor = 0|OriginalWidth = 69088|OriginalHeight = 44364|Filtered = 3|ICC Profile = ScanScope v1', 'openslide.level-count': '4', 'openslide.level[0].downsample': '1', 'openslide.level[0].height': '44264', 'openslide.level[0].tile-height': '240', 'openslide.level[0].tile-width': '240', 'openslide.level[0].width': '67727', 'openslide.level[1].downsample': '4.0000885948851224', 'openslide.level[1].height': '11066', 'openslide.level[1].tile-height': '240', 'openslide.level[1].tile-width': '240', 'openslide.level[1].width': '16931', 'openslide.level[2].downsample': '16.003218343318203', 'openslide.level[2].height': '2766', 'openslide.level[2].tile-height': '240', 'openslide.level[2].tile-width': '240', 'openslide.level[2].width': '4232', 'openslide.level[3].downsample': '32.006436686636405', 'openslide.level[3].height': '1383', 'openslide.level[3].tile-height': '240', 'openslide.level[3].tile-width': '240', 'openslide.level[3].width': '2116', 'openslide.mpp-x': '0.49409999999999998', 'openslide.mpp-y': '0.49409999999999998', 'openslide.objective-power': '20', 'openslide.quickhash-1': '4aa58d906f918872a0aa9517a29a921c1c93fa8d343b704d858566a9b538b563', 'openslide.vendor': 'aperio', 'tiff.ImageDescription': 'Aperio Image Library v12.0.15 \\r\\n69088x44364 [0,100 67727x44264] (240x240) JPEG/RGB Q=70|AppMag = 20|StripeWidth = 2032|ScanScope ID = SS1605|Filename = 53399|Date = 12/15/15|Time = 20:41:07|Time Zone = GMT-08:00|User = c84dc6e7-3bcf-4374-bf32-cd66063ca41f|MPP = 0.4941|Left = 18.253540|Top = 24.195429|LineCameraSkew = 0.000250|LineAreaXOffset = 0.001923|LineAreaYOffset = 0.010204|Focus Offset = -0.000500|DSR ID = PathAperio2|ImageID = 53399|Exposure Time = 109|Exposure Scale = 0.000001|DisplayColor = 0|OriginalWidth = 69088|OriginalHeight = 44364|Filtered = 3|ICC Profile = ScanScope v1', 'tiff.ResolutionUnit': 'inch'}>"
      ]
     },
     "execution_count": 9,
     "metadata": {},
     "output_type": "execute_result"
    }
   ],
   "source": [
    "he_slide.properties"
   ]
  },
  {
   "cell_type": "code",
   "execution_count": null,
   "metadata": {},
   "outputs": [],
   "source": []
  }
 ],
 "metadata": {
  "kernelspec": {
   "display_name": "Python 3",
   "language": "python",
   "name": "python3"
  },
  "language_info": {
   "codemirror_mode": {
    "name": "ipython",
    "version": 3
   },
   "file_extension": ".py",
   "mimetype": "text/x-python",
   "name": "python",
   "nbconvert_exporter": "python",
   "pygments_lexer": "ipython3",
   "version": "3.6.7"
  }
 },
 "nbformat": 4,
 "nbformat_minor": 2
}
